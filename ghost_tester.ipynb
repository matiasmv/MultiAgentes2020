{
 "cells": [
  {
   "cell_type": "code",
   "execution_count": 1,
   "metadata": {},
   "outputs": [],
   "source": [
    "from game_logic.ghostAgents import RandomGhost\n",
    "from entregables.maxNAgent import MaxNAgent\n",
    "from game_logic.randomPacman import RandomPacman\n",
    "from game_logic.PacmanEnvAbs import PacmanEnvAbs\n",
    "import random\n",
    "import math\n",
    "import numpy as np\n",
    "from game_logic.game_util import process_state\n",
    "from main import get_default_agents\n",
    "import timeit \n",
    "import pandas as pd\n",
    "\n",
    "all_layouts = [\n",
    "        \"custom1\",\n",
    "        \"custom2\",\n",
    "        \"capsuleClassic\",\n",
    "        \"contestClassic\",\n",
    "        \"mediumClassic\",\n",
    "        \"minimaxClassic\",\n",
    "        \"openClassic\",\n",
    "        \"originalClassic\",\n",
    "        \"smallClassic\",\n",
    "        \"testClassic\",\n",
    "        \"trappedClassic\",\n",
    "        \"trickyClassic\",\n",
    "        \"mediumGrid\",\n",
    "        \"smallGrid\"\n",
    "    ]\n",
    "\n",
    "# Parametros para un test\n",
    "class TestParams():\n",
    "    def __init__(self, test_name, layout, pacman_agent, ghost_agent_0, ghost_agent_1):        \n",
    "        self.test_name = test_name\n",
    "        self.layout = layout\n",
    "        self.pacman_agent = pacman_agent\n",
    "        self.ghost_agent_0 = ghost_agent_0\n",
    "        self.ghost_agent_1 = ghost_agent_1\n"
   ]
  },
  {
   "cell_type": "code",
   "execution_count": 2,
   "metadata": {},
   "outputs": [],
   "source": [
    "def run_test(test_params):  \n",
    "    t0 = timeit.default_timer()   \n",
    "    pacman_agent = test_params.pacman_agent\n",
    "    ghost_agent_0 = test_params.ghost_agent_0\n",
    "    ghost_agent_1 = test_params.ghost_agent_1\n",
    "    agents = [pacman_agent, ghost_agent_0, ghost_agent_1]\n",
    "    agents.extend(get_default_agents(3, 10))    \n",
    "    done = False\n",
    "    env = PacmanEnvAbs(agents = agents, view_distance = (2, 2))      \n",
    "    game_state = env.reset(enable_render= False, layout_name= test_params.layout)\n",
    "    turn_index = 0\n",
    "    while (not(done)): # jugar   \n",
    "        action = agents[turn_index].getAction(game_state)\n",
    "        game_state, rewards, done, info = env.step(action, turn_index)        \n",
    "        turn_index = (turn_index + 1) % env._get_num_agents()  \n",
    "    t1 = timeit.default_timer()    \n",
    "    time = t1-t0  \n",
    "    assert(game_state.getNumAgents()>=2) # que el juego tenga mas de 2 agentes\n",
    "    if game_state.getNumAgents()==2: # vector de rewards con los primeros 2 rewards y nan\n",
    "        ret = game_state.get_rewards()\n",
    "        ret.append(np.nan)\n",
    "    else: # vector de rewards con los primeros 3 rewards\n",
    "        ret = game_state.get_rewards()[0:3]\n",
    "    return ret, time"
   ]
  },
  {
   "cell_type": "code",
   "execution_count": 3,
   "metadata": {},
   "outputs": [
    {
     "output_type": "stream",
     "name": "stdout",
     "text": [
      "([-1498, -1175.0, nan], 0.5497670379999988)\n"
     ]
    }
   ],
   "source": [
    "pacman_agent = RandomPacman(index = 0)\n",
    "ghost_agent_0 = MaxNAgent(index = 1, unroll_type=\"MCTS\", max_unroll_depth=12, number_of_unrolls=6)\n",
    "ghost_agent_1 = RandomGhost(index = 2)\n",
    "sample_test = TestParams(\"PrimerTest\", \"mediumGrid\", pacman_agent, ghost_agent_0, ghost_agent_1)\n",
    "print(run_test(sample_test))\n"
   ]
  },
  {
   "cell_type": "code",
   "execution_count": 4,
   "metadata": {},
   "outputs": [],
   "source": [
    "selected_layouts = [  \n",
    "        \"originalClassic\",  \n",
    "        \"mediumGrid\",\n",
    "        \"smallGrid\"\n",
    "    ]\n",
    "# 2 pacmans random y MaxN-MCTS\n",
    "pacmans = [(\"rnd_pcmn\",RandomPacman(index = 0)), (\"MAXN_pcmn\",MaxNAgent(index = 0, unroll_type=\"MCTS\", max_unroll_depth=5, number_of_unrolls=10))]\n",
    "# 2 ghosts 0 MC y MCTS\n",
    "ghosts0s = [\n",
    "    (\"MAXN_MC_gh0\",MaxNAgent(index = 1, unroll_type=\"MC\", max_unroll_depth=5, number_of_unrolls=10)),\n",
    "    (\"MAXN_MCTS_gh0\",MaxNAgent(index = 1, unroll_type=\"MCTS\", max_unroll_depth=5, number_of_unrolls=10)),\n",
    "]\n",
    "# 2 ghosts 2 MC y MCTS\n",
    "ghosts1s = [\n",
    "    (\"MAXN_MC_gh1\",MaxNAgent(index = 2, unroll_type=\"MC\", max_unroll_depth=5, number_of_unrolls=10)),\n",
    "    (\"MAXN_MCTS_gh1\",MaxNAgent(index = 2, unroll_type=\"MCTS\", max_unroll_depth=5, number_of_unrolls=10)),\n",
    "]"
   ]
  },
  {
   "cell_type": "code",
   "execution_count": 5,
   "metadata": {},
   "outputs": [],
   "source": [
    "all_tests = []\n",
    "for layout in selected_layouts:\n",
    "    for pacman_name, pacman_agent in pacmans:\n",
    "        for ghost0_name, ghost_0 in ghosts0s:\n",
    "            for ghost1_name, ghost_1 in ghosts1s:\n",
    "                name = layout+\"_\"+pacman_name+\"_\"+ghost0_name+\"_\"+ghost1_name\n",
    "                test = TestParams(name, layout, pacman_agent, ghost_agent_0, ghost_agent_1)\n",
    "                all_tests.append(test)\n",
    "number_of_runs = 10"
   ]
  },
  {
   "cell_type": "code",
   "execution_count": 6,
   "metadata": {},
   "outputs": [
    {
     "output_type": "stream",
     "name": "stdout",
     "text": [
      "All tests time:  5227.01983676 seconds.\n"
     ]
    },
    {
     "output_type": "display_data",
     "data": {
      "text/plain": "                                             TestName  Time_Avg  Time_Std  \\\n0    originalClassic_rnd_pcmn_MAXN_MC_gh0_MAXN_MC_gh1      8.78      4.51   \n1   originalClassic_rnd_pcmn_MAXN_MC_gh0_MAXN_MCTS...     15.78      7.46   \n2   originalClassic_rnd_pcmn_MAXN_MCTS_gh0_MAXN_MC...     10.68      4.50   \n3   originalClassic_rnd_pcmn_MAXN_MCTS_gh0_MAXN_MC...     11.74      8.93   \n4   originalClassic_MAXN_pcmn_MAXN_MC_gh0_MAXN_MC_gh1    122.25     48.20   \n5   originalClassic_MAXN_pcmn_MAXN_MC_gh0_MAXN_MCT...     48.35     34.54   \n6   originalClassic_MAXN_pcmn_MAXN_MCTS_gh0_MAXN_M...     87.89     56.94   \n7   originalClassic_MAXN_pcmn_MAXN_MCTS_gh0_MAXN_M...    108.83     67.84   \n8         mediumGrid_rnd_pcmn_MAXN_MC_gh0_MAXN_MC_gh1      5.33      5.61   \n9       mediumGrid_rnd_pcmn_MAXN_MC_gh0_MAXN_MCTS_gh1      6.20      4.69   \n10      mediumGrid_rnd_pcmn_MAXN_MCTS_gh0_MAXN_MC_gh1      3.67      3.67   \n11    mediumGrid_rnd_pcmn_MAXN_MCTS_gh0_MAXN_MCTS_gh1      3.90      2.76   \n12       mediumGrid_MAXN_pcmn_MAXN_MC_gh0_MAXN_MC_gh1     14.45     16.26   \n13     mediumGrid_MAXN_pcmn_MAXN_MC_gh0_MAXN_MCTS_gh1     14.58     13.63   \n14     mediumGrid_MAXN_pcmn_MAXN_MCTS_gh0_MAXN_MC_gh1     28.56     30.98   \n15   mediumGrid_MAXN_pcmn_MAXN_MCTS_gh0_MAXN_MCTS_gh1     25.69     25.49   \n16         smallGrid_rnd_pcmn_MAXN_MC_gh0_MAXN_MC_gh1      0.13      0.05   \n17       smallGrid_rnd_pcmn_MAXN_MC_gh0_MAXN_MCTS_gh1      0.20      0.20   \n18       smallGrid_rnd_pcmn_MAXN_MCTS_gh0_MAXN_MC_gh1      0.22      0.13   \n19     smallGrid_rnd_pcmn_MAXN_MCTS_gh0_MAXN_MCTS_gh1      0.19      0.13   \n20        smallGrid_MAXN_pcmn_MAXN_MC_gh0_MAXN_MC_gh1      1.06      0.64   \n21      smallGrid_MAXN_pcmn_MAXN_MC_gh0_MAXN_MCTS_gh1      1.28      0.93   \n22      smallGrid_MAXN_pcmn_MAXN_MCTS_gh0_MAXN_MC_gh1      1.24      0.60   \n23    smallGrid_MAXN_pcmn_MAXN_MCTS_gh0_MAXN_MCTS_gh1      1.71      1.65   \n\n    P_Value_Avg  P_Value_Std  GH0_Value_Avg  GH0_Value_Std  GH1_Value_Avg  \\\n0       -1447.9        43.23        -2858.1        1482.39        -2157.3   \n1       -1466.3        49.60        -4785.6        2333.75        -4048.8   \n2       -1439.2        47.08        -3451.3        1466.87        -2910.4   \n3       -1438.1       104.72        -3818.3        2921.90        -3056.5   \n4       -1532.4       266.77       -35507.6       14383.20       -46518.3   \n5       -1490.5       118.80       -13881.4       10308.93       -17596.0   \n6       -1509.1       185.81       -23642.0       15086.38       -30682.3   \n7       -1562.6       124.97       -29751.5       18884.77       -38896.4   \n8       -1356.3       615.17       -21772.5       23951.22            NaN   \n9       -1365.5       557.84       -26540.5       20733.27            NaN   \n10      -1534.3        43.77       -14972.2       15325.52            NaN   \n11      -1332.2       605.84       -15903.4       11907.99            NaN   \n12      -1597.5       115.59       -52701.2       60942.63            NaN   \n13      -1595.4        88.85       -52950.7       50432.01            NaN   \n14      -1688.1       202.25      -104720.3      115248.79            NaN   \n15      -1665.3       161.55       -93444.3       94388.92            NaN   \n16      -1507.3         2.00          381.1         222.84            NaN   \n17      -1509.9         6.27          101.6         827.67            NaN   \n18      -1510.1         5.11          -75.5         581.56            NaN   \n19      -1508.7         4.05          167.7         528.10            NaN   \n20      -1317.4       599.86        -3469.5        2781.10            NaN   \n21      -1523.7        15.40        -4123.1        3608.13            NaN   \n22       -715.5       990.86        -4722.3        2581.93            NaN   \n23       -924.3       921.98        -6309.1        6835.71            NaN   \n\n    GH1_Value_Std  \n0         1239.96  \n1         2004.38  \n2         1337.95  \n3         2722.23  \n4        18713.68  \n5        13488.12  \n6        19962.06  \n7        24936.04  \n8             NaN  \n9             NaN  \n10            NaN  \n11            NaN  \n12            NaN  \n13            NaN  \n14            NaN  \n15            NaN  \n16            NaN  \n17            NaN  \n18            NaN  \n19            NaN  \n20            NaN  \n21            NaN  \n22            NaN  \n23            NaN  ",
      "text/html": "<div>\n<style scoped>\n    .dataframe tbody tr th:only-of-type {\n        vertical-align: middle;\n    }\n\n    .dataframe tbody tr th {\n        vertical-align: top;\n    }\n\n    .dataframe thead th {\n        text-align: right;\n    }\n</style>\n<table border=\"1\" class=\"dataframe\">\n  <thead>\n    <tr style=\"text-align: right;\">\n      <th></th>\n      <th>TestName</th>\n      <th>Time_Avg</th>\n      <th>Time_Std</th>\n      <th>P_Value_Avg</th>\n      <th>P_Value_Std</th>\n      <th>GH0_Value_Avg</th>\n      <th>GH0_Value_Std</th>\n      <th>GH1_Value_Avg</th>\n      <th>GH1_Value_Std</th>\n    </tr>\n  </thead>\n  <tbody>\n    <tr>\n      <th>0</th>\n      <td>originalClassic_rnd_pcmn_MAXN_MC_gh0_MAXN_MC_gh1</td>\n      <td>8.78</td>\n      <td>4.51</td>\n      <td>-1447.9</td>\n      <td>43.23</td>\n      <td>-2858.1</td>\n      <td>1482.39</td>\n      <td>-2157.3</td>\n      <td>1239.96</td>\n    </tr>\n    <tr>\n      <th>1</th>\n      <td>originalClassic_rnd_pcmn_MAXN_MC_gh0_MAXN_MCTS...</td>\n      <td>15.78</td>\n      <td>7.46</td>\n      <td>-1466.3</td>\n      <td>49.60</td>\n      <td>-4785.6</td>\n      <td>2333.75</td>\n      <td>-4048.8</td>\n      <td>2004.38</td>\n    </tr>\n    <tr>\n      <th>2</th>\n      <td>originalClassic_rnd_pcmn_MAXN_MCTS_gh0_MAXN_MC...</td>\n      <td>10.68</td>\n      <td>4.50</td>\n      <td>-1439.2</td>\n      <td>47.08</td>\n      <td>-3451.3</td>\n      <td>1466.87</td>\n      <td>-2910.4</td>\n      <td>1337.95</td>\n    </tr>\n    <tr>\n      <th>3</th>\n      <td>originalClassic_rnd_pcmn_MAXN_MCTS_gh0_MAXN_MC...</td>\n      <td>11.74</td>\n      <td>8.93</td>\n      <td>-1438.1</td>\n      <td>104.72</td>\n      <td>-3818.3</td>\n      <td>2921.90</td>\n      <td>-3056.5</td>\n      <td>2722.23</td>\n    </tr>\n    <tr>\n      <th>4</th>\n      <td>originalClassic_MAXN_pcmn_MAXN_MC_gh0_MAXN_MC_gh1</td>\n      <td>122.25</td>\n      <td>48.20</td>\n      <td>-1532.4</td>\n      <td>266.77</td>\n      <td>-35507.6</td>\n      <td>14383.20</td>\n      <td>-46518.3</td>\n      <td>18713.68</td>\n    </tr>\n    <tr>\n      <th>5</th>\n      <td>originalClassic_MAXN_pcmn_MAXN_MC_gh0_MAXN_MCT...</td>\n      <td>48.35</td>\n      <td>34.54</td>\n      <td>-1490.5</td>\n      <td>118.80</td>\n      <td>-13881.4</td>\n      <td>10308.93</td>\n      <td>-17596.0</td>\n      <td>13488.12</td>\n    </tr>\n    <tr>\n      <th>6</th>\n      <td>originalClassic_MAXN_pcmn_MAXN_MCTS_gh0_MAXN_M...</td>\n      <td>87.89</td>\n      <td>56.94</td>\n      <td>-1509.1</td>\n      <td>185.81</td>\n      <td>-23642.0</td>\n      <td>15086.38</td>\n      <td>-30682.3</td>\n      <td>19962.06</td>\n    </tr>\n    <tr>\n      <th>7</th>\n      <td>originalClassic_MAXN_pcmn_MAXN_MCTS_gh0_MAXN_M...</td>\n      <td>108.83</td>\n      <td>67.84</td>\n      <td>-1562.6</td>\n      <td>124.97</td>\n      <td>-29751.5</td>\n      <td>18884.77</td>\n      <td>-38896.4</td>\n      <td>24936.04</td>\n    </tr>\n    <tr>\n      <th>8</th>\n      <td>mediumGrid_rnd_pcmn_MAXN_MC_gh0_MAXN_MC_gh1</td>\n      <td>5.33</td>\n      <td>5.61</td>\n      <td>-1356.3</td>\n      <td>615.17</td>\n      <td>-21772.5</td>\n      <td>23951.22</td>\n      <td>NaN</td>\n      <td>NaN</td>\n    </tr>\n    <tr>\n      <th>9</th>\n      <td>mediumGrid_rnd_pcmn_MAXN_MC_gh0_MAXN_MCTS_gh1</td>\n      <td>6.20</td>\n      <td>4.69</td>\n      <td>-1365.5</td>\n      <td>557.84</td>\n      <td>-26540.5</td>\n      <td>20733.27</td>\n      <td>NaN</td>\n      <td>NaN</td>\n    </tr>\n    <tr>\n      <th>10</th>\n      <td>mediumGrid_rnd_pcmn_MAXN_MCTS_gh0_MAXN_MC_gh1</td>\n      <td>3.67</td>\n      <td>3.67</td>\n      <td>-1534.3</td>\n      <td>43.77</td>\n      <td>-14972.2</td>\n      <td>15325.52</td>\n      <td>NaN</td>\n      <td>NaN</td>\n    </tr>\n    <tr>\n      <th>11</th>\n      <td>mediumGrid_rnd_pcmn_MAXN_MCTS_gh0_MAXN_MCTS_gh1</td>\n      <td>3.90</td>\n      <td>2.76</td>\n      <td>-1332.2</td>\n      <td>605.84</td>\n      <td>-15903.4</td>\n      <td>11907.99</td>\n      <td>NaN</td>\n      <td>NaN</td>\n    </tr>\n    <tr>\n      <th>12</th>\n      <td>mediumGrid_MAXN_pcmn_MAXN_MC_gh0_MAXN_MC_gh1</td>\n      <td>14.45</td>\n      <td>16.26</td>\n      <td>-1597.5</td>\n      <td>115.59</td>\n      <td>-52701.2</td>\n      <td>60942.63</td>\n      <td>NaN</td>\n      <td>NaN</td>\n    </tr>\n    <tr>\n      <th>13</th>\n      <td>mediumGrid_MAXN_pcmn_MAXN_MC_gh0_MAXN_MCTS_gh1</td>\n      <td>14.58</td>\n      <td>13.63</td>\n      <td>-1595.4</td>\n      <td>88.85</td>\n      <td>-52950.7</td>\n      <td>50432.01</td>\n      <td>NaN</td>\n      <td>NaN</td>\n    </tr>\n    <tr>\n      <th>14</th>\n      <td>mediumGrid_MAXN_pcmn_MAXN_MCTS_gh0_MAXN_MC_gh1</td>\n      <td>28.56</td>\n      <td>30.98</td>\n      <td>-1688.1</td>\n      <td>202.25</td>\n      <td>-104720.3</td>\n      <td>115248.79</td>\n      <td>NaN</td>\n      <td>NaN</td>\n    </tr>\n    <tr>\n      <th>15</th>\n      <td>mediumGrid_MAXN_pcmn_MAXN_MCTS_gh0_MAXN_MCTS_gh1</td>\n      <td>25.69</td>\n      <td>25.49</td>\n      <td>-1665.3</td>\n      <td>161.55</td>\n      <td>-93444.3</td>\n      <td>94388.92</td>\n      <td>NaN</td>\n      <td>NaN</td>\n    </tr>\n    <tr>\n      <th>16</th>\n      <td>smallGrid_rnd_pcmn_MAXN_MC_gh0_MAXN_MC_gh1</td>\n      <td>0.13</td>\n      <td>0.05</td>\n      <td>-1507.3</td>\n      <td>2.00</td>\n      <td>381.1</td>\n      <td>222.84</td>\n      <td>NaN</td>\n      <td>NaN</td>\n    </tr>\n    <tr>\n      <th>17</th>\n      <td>smallGrid_rnd_pcmn_MAXN_MC_gh0_MAXN_MCTS_gh1</td>\n      <td>0.20</td>\n      <td>0.20</td>\n      <td>-1509.9</td>\n      <td>6.27</td>\n      <td>101.6</td>\n      <td>827.67</td>\n      <td>NaN</td>\n      <td>NaN</td>\n    </tr>\n    <tr>\n      <th>18</th>\n      <td>smallGrid_rnd_pcmn_MAXN_MCTS_gh0_MAXN_MC_gh1</td>\n      <td>0.22</td>\n      <td>0.13</td>\n      <td>-1510.1</td>\n      <td>5.11</td>\n      <td>-75.5</td>\n      <td>581.56</td>\n      <td>NaN</td>\n      <td>NaN</td>\n    </tr>\n    <tr>\n      <th>19</th>\n      <td>smallGrid_rnd_pcmn_MAXN_MCTS_gh0_MAXN_MCTS_gh1</td>\n      <td>0.19</td>\n      <td>0.13</td>\n      <td>-1508.7</td>\n      <td>4.05</td>\n      <td>167.7</td>\n      <td>528.10</td>\n      <td>NaN</td>\n      <td>NaN</td>\n    </tr>\n    <tr>\n      <th>20</th>\n      <td>smallGrid_MAXN_pcmn_MAXN_MC_gh0_MAXN_MC_gh1</td>\n      <td>1.06</td>\n      <td>0.64</td>\n      <td>-1317.4</td>\n      <td>599.86</td>\n      <td>-3469.5</td>\n      <td>2781.10</td>\n      <td>NaN</td>\n      <td>NaN</td>\n    </tr>\n    <tr>\n      <th>21</th>\n      <td>smallGrid_MAXN_pcmn_MAXN_MC_gh0_MAXN_MCTS_gh1</td>\n      <td>1.28</td>\n      <td>0.93</td>\n      <td>-1523.7</td>\n      <td>15.40</td>\n      <td>-4123.1</td>\n      <td>3608.13</td>\n      <td>NaN</td>\n      <td>NaN</td>\n    </tr>\n    <tr>\n      <th>22</th>\n      <td>smallGrid_MAXN_pcmn_MAXN_MCTS_gh0_MAXN_MC_gh1</td>\n      <td>1.24</td>\n      <td>0.60</td>\n      <td>-715.5</td>\n      <td>990.86</td>\n      <td>-4722.3</td>\n      <td>2581.93</td>\n      <td>NaN</td>\n      <td>NaN</td>\n    </tr>\n    <tr>\n      <th>23</th>\n      <td>smallGrid_MAXN_pcmn_MAXN_MCTS_gh0_MAXN_MCTS_gh1</td>\n      <td>1.71</td>\n      <td>1.65</td>\n      <td>-924.3</td>\n      <td>921.98</td>\n      <td>-6309.1</td>\n      <td>6835.71</td>\n      <td>NaN</td>\n      <td>NaN</td>\n    </tr>\n  </tbody>\n</table>\n</div>"
     },
     "metadata": {}
    }
   ],
   "source": [
    "results = []\n",
    "t0 = timeit.default_timer()   \n",
    "for i in range(len(all_tests)):   \n",
    "        values = []\n",
    "        times = []    \n",
    "        for _ in range(number_of_runs):\n",
    "            value, time = run_test(all_tests[i])            \n",
    "            values.append(value)\n",
    "            times.append(time)\n",
    "        #compute avg and std and and add to results\n",
    "        value_avg = np.round(np.mean(np.array(values), axis=0),2)\n",
    "        time_avg = np.round(np.mean(np.array(times)),2)\n",
    "        value_std = np.round(np.std(np.array(values), axis=0),2)\n",
    "        time_std = np.round(np.std(np.array(times)),2)\n",
    "        result = {'TestName':all_tests[i].test_name,'Time_Avg':time_avg,'Time_Std':time_std, \n",
    "                  'P_Value_Avg':value_avg[0], \n",
    "                  'P_Value_Std':value_std[0],\n",
    "                  'GH0_Value_Avg':value_avg[1], \n",
    "                  'GH0_Value_Std':value_std[1],\n",
    "                  'GH1_Value_Avg':value_avg[2], \n",
    "                  'GH1_Value_Std':value_std[2]\n",
    "                  }\n",
    "        results.append(result)\n",
    "results = pd.DataFrame(results)\n",
    "t1 = timeit.default_timer()    \n",
    "time = t1-t0  \n",
    "print(\"All tests time: \", time, \"seconds.\")    \n",
    "display(results)"
   ]
  },
  {
   "cell_type": "code",
   "execution_count": null,
   "metadata": {},
   "outputs": [],
   "source": []
  }
 ],
 "metadata": {
  "kernelspec": {
   "display_name": "Python 3",
   "language": "python",
   "name": "python3"
  },
  "language_info": {
   "codemirror_mode": {
    "name": "ipython",
    "version": 3
   },
   "file_extension": ".py",
   "mimetype": "text/x-python",
   "name": "python",
   "nbconvert_exporter": "python",
   "pygments_lexer": "ipython3",
   "version": "3.8.3-final"
  }
 },
 "nbformat": 4,
 "nbformat_minor": 2
}