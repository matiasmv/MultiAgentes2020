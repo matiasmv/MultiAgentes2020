{
 "cells": [
  {
   "cell_type": "code",
   "execution_count": 22,
   "metadata": {},
   "outputs": [],
   "source": [
    "from game_logic.ghostAgents import RandomGhost\n",
    "from entregables.maxNAgent import MaxNAgent\n",
    "from game_logic.randomPacman import RandomPacman\n",
    "from game_logic.PacmanEnvAbs import PacmanEnvAbs\n",
    "import random\n",
    "import math\n",
    "import numpy as np\n",
    "from game_logic.game_util import process_state\n",
    "from main import get_default_agents\n",
    "import timeit \n",
    "import pandas as pd\n",
    "\n",
    "all_layouts = [\n",
    "        \"custom1\",\n",
    "        \"custom2\",\n",
    "        \"capsuleClassic\",\n",
    "        \"contestClassic\",\n",
    "        \"mediumClassic\",\n",
    "        \"minimaxClassic\",\n",
    "        \"openClassic\",\n",
    "        \"originalClassic\",\n",
    "        \"smallClassic\",\n",
    "        \"testClassic\",\n",
    "        \"trappedClassic\",\n",
    "        \"trickyClassic\",\n",
    "        \"mediumGrid\",\n",
    "        \"smallGrid\"\n",
    "    ]\n",
    "\n",
    "# Parametros para un test\n",
    "class TestParams():\n",
    "    def __init__(self, test_name, layout, pacman_agent, ghost_agent_0, ghost_agent_1):        \n",
    "        self.test_name = test_name\n",
    "        self.layout = layout\n",
    "        self.pacman_agent = pacman_agent\n",
    "        self.ghost_agent_0 = ghost_agent_0\n",
    "        self.ghost_agent_1 = ghost_agent_1\n"
   ]
  },
  {
   "cell_type": "code",
   "execution_count": 23,
   "metadata": {},
   "outputs": [],
   "source": [
    "def run_test(test_params):  \n",
    "    t0 = timeit.default_timer()   \n",
    "    pacman_agent = test_params.pacman_agent\n",
    "    ghost_agent_0 = test_params.ghost_agent_0\n",
    "    ghost_agent_1 = test_params.ghost_agent_1\n",
    "    agents = [pacman_agent, ghost_agent_0, ghost_agent_1]\n",
    "    agents.extend(get_default_agents(3, 10))    \n",
    "    done = False\n",
    "    env = PacmanEnvAbs(agents = agents, view_distance = (2, 2))      \n",
    "    game_state = env.reset(enable_render= False, layout_name= test_params.layout)\n",
    "    turn_index = 0\n",
    "    while (not(done)): # jugar   \n",
    "        action = agents[turn_index].getAction(game_state)\n",
    "        game_state, rewards, done, info = env.step(action, turn_index)        \n",
    "        turn_index = (turn_index + 1) % env._get_num_agents()  \n",
    "    t1 = timeit.default_timer()    \n",
    "    time = t1-t0  \n",
    "    assert(game_state.getNumAgents()>=2) # que el juego tenga mas de 2 agentes\n",
    "    if game_state.getNumAgents()==2: # vector de rewards con los primeros 2 rewards y nan\n",
    "        ret = game_state.get_rewards()\n",
    "        ret.append(np.nan)\n",
    "    else: # vector de rewards con los primeros 3 rewards\n",
    "        ret = game_state.get_rewards()[0:3]\n",
    "    return ret, time"
   ]
  },
  {
   "cell_type": "code",
   "execution_count": 24,
   "metadata": {},
   "outputs": [
    {
     "output_type": "stream",
     "name": "stdout",
     "text": [
      "([-1523, -5646.0, nan], 1.4935193139999683)\n"
     ]
    }
   ],
   "source": [
    "pacman_agent = RandomPacman(index = 0)\n",
    "ghost_agent_0 = MaxNAgent(index = 1, unroll_type=\"MCTS\", max_unroll_depth=12, number_of_unrolls=6)\n",
    "ghost_agent_1 = RandomGhost(index = 2)\n",
    "sample_test = TestParams(\"PrimerTest\", \"mediumGrid\", pacman_agent, ghost_agent_0, ghost_agent_1)\n",
    "print(run_test(sample_test))\n"
   ]
  },
  {
   "cell_type": "code",
   "execution_count": 25,
   "metadata": {},
   "outputs": [],
   "source": [
    "selected_layouts = [  \n",
    "        \"smallGrid\"\n",
    "    ]\n",
    "# 1 pacman:\n",
    "    # MCTS --> Eval 1 (get_rewards)\n",
    "pacmans = [\n",
    "    (\"MAXN_pcmn\",MaxNAgent(index = 0, unroll_type=\"MCTS\", max_unroll_depth=5, number_of_unrolls=10))\n",
    "]\n",
    "\n",
    "# 6 ghosts:\n",
    "    # MC ---> Eval 1 (get_rewards)\n",
    "    # MC ---> Eval 2 (get_rewards)\n",
    "    # MC ---> Eval 3 (get_rewards)\n",
    "    # MC ---> Eval 1 (use_eval_in_end)\n",
    "    # MC ---> Eval 2 (use_eval_in_end)\n",
    "    # MC ---> Eval 3 (use_eval_in_end)    \n",
    "ghosts0s = [\n",
    "    (\"Eval1_MC_gh0\", MaxNAgent(index = 1, unroll_type=\"MC\", max_unroll_depth=5, number_of_unrolls=10, eval_id=1, use_eval_in_end=False)),\n",
    "    (\"Eval2_MC_gh0\", MaxNAgent(index = 1, unroll_type=\"MC\", max_unroll_depth=5, number_of_unrolls=10, eval_id=2, use_eval_in_end=False)),\n",
    "    (\"Eval3_MC_gh0\", MaxNAgent(index = 1, unroll_type=\"MC\", max_unroll_depth=5, number_of_unrolls=10, eval_id=3, use_eval_in_end=False)),\n",
    "    (\"Eval1_MC_gh0_isEval\", MaxNAgent(index = 1, unroll_type=\"MC\", max_unroll_depth=5, number_of_unrolls=10, eval_id=1, use_eval_in_end=True)),\n",
    "    (\"Eval2_MC_gh0_isEval\", MaxNAgent(index = 1, unroll_type=\"MC\", max_unroll_depth=5, number_of_unrolls=10, eval_id=2, use_eval_in_end=True)),\n",
    "    (\"Eval3_MC_gh0_isEval\", MaxNAgent(index = 1, unroll_type=\"MC\", max_unroll_depth=5, number_of_unrolls=10, eval_id=3, use_eval_in_end=True))    \n",
    "]\n",
    "\n",
    "# 6 ghosts:\n",
    "    # MCTS ---> Eval 1 (get_rewards)\n",
    "    # MCTS ---> Eval 2 (get_rewards)\n",
    "    # MCTS ---> Eval 3 (get_rewards)\n",
    "    # MCTS ---> Eval 1 (use_eval_in_end)\n",
    "    # MCTS ---> Eval 2 (use_eval_in_end)\n",
    "    # MCTS ---> Eval 3 (use_eval_in_end) \n",
    "ghosts1s = [\n",
    "    (\"Eval1_MCTS_gh1\", MaxNAgent(index = 2, unroll_type=\"MCTS\", max_unroll_depth=5, number_of_unrolls=10, eval_id=1, use_eval_in_end=False)),\n",
    "    (\"Eval2_MCTS_gh1\", MaxNAgent(index = 2, unroll_type=\"MCTS\", max_unroll_depth=5, number_of_unrolls=10, eval_id=2, use_eval_in_end=False)),\n",
    "    (\"Eval3_MCTS_gh1\", MaxNAgent(index = 2, unroll_type=\"MCTS\", max_unroll_depth=5, number_of_unrolls=10, eval_id=3, use_eval_in_end=False)),\n",
    "    (\"Eval1_MCTS_gh1_isEval\", MaxNAgent(index = 2, unroll_type=\"MCTS\", max_unroll_depth=5, number_of_unrolls=10, eval_id=1, use_eval_in_end=True)),\n",
    "    (\"Eval2_MCTS_gh1_isEval\", MaxNAgent(index = 2, unroll_type=\"MCTS\", max_unroll_depth=5, number_of_unrolls=10, eval_id=2, use_eval_in_end=True)),\n",
    "    (\"Eval3_MCTS_gh1_isEval\", MaxNAgent(index = 2, unroll_type=\"MCTS\", max_unroll_depth=5, number_of_unrolls=10, eval_id=3, use_eval_in_end=True))    \n",
    "]"
   ]
  },
  {
   "cell_type": "code",
   "execution_count": 26,
   "metadata": {},
   "outputs": [],
   "source": [
    "all_tests = []\n",
    "for layout in selected_layouts:\n",
    "    for pacman_name, pacman_agent in pacmans:\n",
    "        for ghost0_name, ghost_0 in ghosts0s:\n",
    "            for ghost1_name, ghost_1 in ghosts1s:\n",
    "                name = layout+\"_\"+pacman_name+\"_\"+ghost0_name+\"_\"+ghost1_name\n",
    "                test = TestParams(name, layout, pacman_agent, ghost_agent_0, ghost_agent_1)\n",
    "                all_tests.append(test)\n",
    "number_of_runs = 10"
   ]
  },
  {
   "cell_type": "code",
   "execution_count": 28,
   "metadata": {},
   "outputs": [
    {
     "output_type": "stream",
     "name": "stdout",
     "text": [
      "All tests time:  524.800428085 seconds.\n"
     ]
    },
    {
     "output_type": "display_data",
     "data": {
      "text/plain": "                                             TestName  Time_Avg  Time_Std  \\\n0     smallGrid_MAXN_pcmn_Eval1_MC_gh0_Eval1_MCTS_gh1      1.75      1.51   \n1     smallGrid_MAXN_pcmn_Eval1_MC_gh0_Eval2_MCTS_gh1      1.03      0.84   \n2     smallGrid_MAXN_pcmn_Eval1_MC_gh0_Eval3_MCTS_gh1      1.81      1.32   \n3   smallGrid_MAXN_pcmn_Eval1_MC_gh0_Eval1_MCTS_gh...      1.73      2.97   \n4   smallGrid_MAXN_pcmn_Eval1_MC_gh0_Eval2_MCTS_gh...      1.43      1.06   \n5   smallGrid_MAXN_pcmn_Eval1_MC_gh0_Eval3_MCTS_gh...      1.81      1.19   \n6     smallGrid_MAXN_pcmn_Eval2_MC_gh0_Eval1_MCTS_gh1      1.21      0.69   \n7     smallGrid_MAXN_pcmn_Eval2_MC_gh0_Eval2_MCTS_gh1      0.65      0.41   \n8     smallGrid_MAXN_pcmn_Eval2_MC_gh0_Eval3_MCTS_gh1      2.62      3.57   \n9   smallGrid_MAXN_pcmn_Eval2_MC_gh0_Eval1_MCTS_gh...      2.01      1.87   \n10  smallGrid_MAXN_pcmn_Eval2_MC_gh0_Eval2_MCTS_gh...      1.72      1.70   \n11  smallGrid_MAXN_pcmn_Eval2_MC_gh0_Eval3_MCTS_gh...      1.00      0.76   \n12    smallGrid_MAXN_pcmn_Eval3_MC_gh0_Eval1_MCTS_gh1      1.10      1.07   \n13    smallGrid_MAXN_pcmn_Eval3_MC_gh0_Eval2_MCTS_gh1      1.84      1.48   \n14    smallGrid_MAXN_pcmn_Eval3_MC_gh0_Eval3_MCTS_gh1      1.79      1.47   \n15  smallGrid_MAXN_pcmn_Eval3_MC_gh0_Eval1_MCTS_gh...      1.94      1.34   \n16  smallGrid_MAXN_pcmn_Eval3_MC_gh0_Eval2_MCTS_gh...      1.74      3.02   \n17  smallGrid_MAXN_pcmn_Eval3_MC_gh0_Eval3_MCTS_gh...      1.64      1.83   \n18  smallGrid_MAXN_pcmn_Eval1_MC_gh0_isEval_Eval1_...      1.04      0.63   \n19  smallGrid_MAXN_pcmn_Eval1_MC_gh0_isEval_Eval2_...      1.65      0.92   \n20  smallGrid_MAXN_pcmn_Eval1_MC_gh0_isEval_Eval3_...      1.43      1.35   \n21  smallGrid_MAXN_pcmn_Eval1_MC_gh0_isEval_Eval1_...      1.51      1.32   \n22  smallGrid_MAXN_pcmn_Eval1_MC_gh0_isEval_Eval2_...      1.85      1.94   \n23  smallGrid_MAXN_pcmn_Eval1_MC_gh0_isEval_Eval3_...      1.57      1.60   \n24  smallGrid_MAXN_pcmn_Eval2_MC_gh0_isEval_Eval1_...      1.13      0.95   \n25  smallGrid_MAXN_pcmn_Eval2_MC_gh0_isEval_Eval2_...      0.93      0.66   \n26  smallGrid_MAXN_pcmn_Eval2_MC_gh0_isEval_Eval3_...      0.74      0.43   \n27  smallGrid_MAXN_pcmn_Eval2_MC_gh0_isEval_Eval1_...      1.16      0.96   \n28  smallGrid_MAXN_pcmn_Eval2_MC_gh0_isEval_Eval2_...      1.44      1.23   \n29  smallGrid_MAXN_pcmn_Eval2_MC_gh0_isEval_Eval3_...      0.74      0.44   \n30  smallGrid_MAXN_pcmn_Eval3_MC_gh0_isEval_Eval1_...      1.19      0.57   \n31  smallGrid_MAXN_pcmn_Eval3_MC_gh0_isEval_Eval2_...      2.23      3.65   \n32  smallGrid_MAXN_pcmn_Eval3_MC_gh0_isEval_Eval3_...      0.72      0.64   \n33  smallGrid_MAXN_pcmn_Eval3_MC_gh0_isEval_Eval1_...      1.41      0.71   \n34  smallGrid_MAXN_pcmn_Eval3_MC_gh0_isEval_Eval2_...      0.68      0.59   \n35  smallGrid_MAXN_pcmn_Eval3_MC_gh0_isEval_Eval3_...      2.25      1.87   \n\n    P_Value_Avg  P_Value_Std  GH0_Value_Avg  GH0_Value_Std  GH1_Value_Avg  \\\n0       -1324.7       609.46        -5597.6        5744.76            NaN   \n1       -1517.0        13.74        -2875.9        3140.06            NaN   \n2        -720.8       988.45        -6023.6        4912.02            NaN   \n3       -1326.7       611.62        -5346.7       10493.81            NaN   \n4       -1118.2       800.75        -4505.9        4113.72            NaN   \n5       -1126.5       814.70        -5924.6        4302.66            NaN   \n6       -1116.7       806.94        -3766.8        2733.91            NaN   \n7       -1108.2       801.85        -1679.0        1947.87            NaN   \n8       -1138.6       773.79        -9125.3       13722.11            NaN   \n9        -926.0       926.46        -6875.7        7040.75            NaN   \n10      -1124.3       811.40        -5670.4        6369.49            NaN   \n11      -1315.5       605.95        -2852.4        2842.62            NaN   \n12      -1316.8       592.36        -3230.1        4266.94            NaN   \n13      -1327.9       586.53        -6069.6        5805.91            NaN   \n14      -1125.7       794.60        -5960.2        5732.42            NaN   \n15       -723.8       992.51        -6404.3        4796.31            NaN   \n16      -1528.0        48.49        -5411.8       11166.01            NaN   \n17      -1122.4       789.52        -5293.1        7021.08            NaN   \n18      -1112.9       803.51        -3029.0        2550.25            NaN   \n19      -1524.9        15.90        -4954.0        3395.89            NaN   \n20      -1118.3       798.19        -4719.9        5377.39            NaN   \n21      -1123.1       799.41        -5668.2        5766.62            NaN   \n22      -1533.5        36.48        -6821.7        8192.01            NaN   \n23      -1125.7       792.72        -5815.2        6955.99            NaN   \n24      -1320.3       606.68        -3882.0        4011.18            NaN   \n25      -1314.3       602.23        -3021.4        2924.75            NaN   \n26      -1311.1       604.76        -2341.8        1943.40            NaN   \n27      -1522.5        18.90        -4090.4        4199.97            NaN   \n28       -719.5       981.09        -5697.4        5613.31            NaN   \n29      -1109.9       803.73        -2415.7        2133.71            NaN   \n30       -513.3      1006.75        -4673.8        2686.54            NaN   \n31       -531.8       985.85        -9222.1       15998.50            NaN   \n32      -1312.5       594.51        -2265.7        3086.48            NaN   \n33       -720.2       994.53        -5653.5        3014.73            NaN   \n34      -1512.8         9.50        -2061.2        2621.98            NaN   \n35       -937.7       908.62        -9214.0        8462.64            NaN   \n\n    GH1_Value_Std  \n0             NaN  \n1             NaN  \n2             NaN  \n3             NaN  \n4             NaN  \n5             NaN  \n6             NaN  \n7             NaN  \n8             NaN  \n9             NaN  \n10            NaN  \n11            NaN  \n12            NaN  \n13            NaN  \n14            NaN  \n15            NaN  \n16            NaN  \n17            NaN  \n18            NaN  \n19            NaN  \n20            NaN  \n21            NaN  \n22            NaN  \n23            NaN  \n24            NaN  \n25            NaN  \n26            NaN  \n27            NaN  \n28            NaN  \n29            NaN  \n30            NaN  \n31            NaN  \n32            NaN  \n33            NaN  \n34            NaN  \n35            NaN  ",
      "text/html": "<div>\n<style scoped>\n    .dataframe tbody tr th:only-of-type {\n        vertical-align: middle;\n    }\n\n    .dataframe tbody tr th {\n        vertical-align: top;\n    }\n\n    .dataframe thead th {\n        text-align: right;\n    }\n</style>\n<table border=\"1\" class=\"dataframe\">\n  <thead>\n    <tr style=\"text-align: right;\">\n      <th></th>\n      <th>TestName</th>\n      <th>Time_Avg</th>\n      <th>Time_Std</th>\n      <th>P_Value_Avg</th>\n      <th>P_Value_Std</th>\n      <th>GH0_Value_Avg</th>\n      <th>GH0_Value_Std</th>\n      <th>GH1_Value_Avg</th>\n      <th>GH1_Value_Std</th>\n    </tr>\n  </thead>\n  <tbody>\n    <tr>\n      <th>0</th>\n      <td>smallGrid_MAXN_pcmn_Eval1_MC_gh0_Eval1_MCTS_gh1</td>\n      <td>1.75</td>\n      <td>1.51</td>\n      <td>-1324.7</td>\n      <td>609.46</td>\n      <td>-5597.6</td>\n      <td>5744.76</td>\n      <td>NaN</td>\n      <td>NaN</td>\n    </tr>\n    <tr>\n      <th>1</th>\n      <td>smallGrid_MAXN_pcmn_Eval1_MC_gh0_Eval2_MCTS_gh1</td>\n      <td>1.03</td>\n      <td>0.84</td>\n      <td>-1517.0</td>\n      <td>13.74</td>\n      <td>-2875.9</td>\n      <td>3140.06</td>\n      <td>NaN</td>\n      <td>NaN</td>\n    </tr>\n    <tr>\n      <th>2</th>\n      <td>smallGrid_MAXN_pcmn_Eval1_MC_gh0_Eval3_MCTS_gh1</td>\n      <td>1.81</td>\n      <td>1.32</td>\n      <td>-720.8</td>\n      <td>988.45</td>\n      <td>-6023.6</td>\n      <td>4912.02</td>\n      <td>NaN</td>\n      <td>NaN</td>\n    </tr>\n    <tr>\n      <th>3</th>\n      <td>smallGrid_MAXN_pcmn_Eval1_MC_gh0_Eval1_MCTS_gh...</td>\n      <td>1.73</td>\n      <td>2.97</td>\n      <td>-1326.7</td>\n      <td>611.62</td>\n      <td>-5346.7</td>\n      <td>10493.81</td>\n      <td>NaN</td>\n      <td>NaN</td>\n    </tr>\n    <tr>\n      <th>4</th>\n      <td>smallGrid_MAXN_pcmn_Eval1_MC_gh0_Eval2_MCTS_gh...</td>\n      <td>1.43</td>\n      <td>1.06</td>\n      <td>-1118.2</td>\n      <td>800.75</td>\n      <td>-4505.9</td>\n      <td>4113.72</td>\n      <td>NaN</td>\n      <td>NaN</td>\n    </tr>\n    <tr>\n      <th>5</th>\n      <td>smallGrid_MAXN_pcmn_Eval1_MC_gh0_Eval3_MCTS_gh...</td>\n      <td>1.81</td>\n      <td>1.19</td>\n      <td>-1126.5</td>\n      <td>814.70</td>\n      <td>-5924.6</td>\n      <td>4302.66</td>\n      <td>NaN</td>\n      <td>NaN</td>\n    </tr>\n    <tr>\n      <th>6</th>\n      <td>smallGrid_MAXN_pcmn_Eval2_MC_gh0_Eval1_MCTS_gh1</td>\n      <td>1.21</td>\n      <td>0.69</td>\n      <td>-1116.7</td>\n      <td>806.94</td>\n      <td>-3766.8</td>\n      <td>2733.91</td>\n      <td>NaN</td>\n      <td>NaN</td>\n    </tr>\n    <tr>\n      <th>7</th>\n      <td>smallGrid_MAXN_pcmn_Eval2_MC_gh0_Eval2_MCTS_gh1</td>\n      <td>0.65</td>\n      <td>0.41</td>\n      <td>-1108.2</td>\n      <td>801.85</td>\n      <td>-1679.0</td>\n      <td>1947.87</td>\n      <td>NaN</td>\n      <td>NaN</td>\n    </tr>\n    <tr>\n      <th>8</th>\n      <td>smallGrid_MAXN_pcmn_Eval2_MC_gh0_Eval3_MCTS_gh1</td>\n      <td>2.62</td>\n      <td>3.57</td>\n      <td>-1138.6</td>\n      <td>773.79</td>\n      <td>-9125.3</td>\n      <td>13722.11</td>\n      <td>NaN</td>\n      <td>NaN</td>\n    </tr>\n    <tr>\n      <th>9</th>\n      <td>smallGrid_MAXN_pcmn_Eval2_MC_gh0_Eval1_MCTS_gh...</td>\n      <td>2.01</td>\n      <td>1.87</td>\n      <td>-926.0</td>\n      <td>926.46</td>\n      <td>-6875.7</td>\n      <td>7040.75</td>\n      <td>NaN</td>\n      <td>NaN</td>\n    </tr>\n    <tr>\n      <th>10</th>\n      <td>smallGrid_MAXN_pcmn_Eval2_MC_gh0_Eval2_MCTS_gh...</td>\n      <td>1.72</td>\n      <td>1.70</td>\n      <td>-1124.3</td>\n      <td>811.40</td>\n      <td>-5670.4</td>\n      <td>6369.49</td>\n      <td>NaN</td>\n      <td>NaN</td>\n    </tr>\n    <tr>\n      <th>11</th>\n      <td>smallGrid_MAXN_pcmn_Eval2_MC_gh0_Eval3_MCTS_gh...</td>\n      <td>1.00</td>\n      <td>0.76</td>\n      <td>-1315.5</td>\n      <td>605.95</td>\n      <td>-2852.4</td>\n      <td>2842.62</td>\n      <td>NaN</td>\n      <td>NaN</td>\n    </tr>\n    <tr>\n      <th>12</th>\n      <td>smallGrid_MAXN_pcmn_Eval3_MC_gh0_Eval1_MCTS_gh1</td>\n      <td>1.10</td>\n      <td>1.07</td>\n      <td>-1316.8</td>\n      <td>592.36</td>\n      <td>-3230.1</td>\n      <td>4266.94</td>\n      <td>NaN</td>\n      <td>NaN</td>\n    </tr>\n    <tr>\n      <th>13</th>\n      <td>smallGrid_MAXN_pcmn_Eval3_MC_gh0_Eval2_MCTS_gh1</td>\n      <td>1.84</td>\n      <td>1.48</td>\n      <td>-1327.9</td>\n      <td>586.53</td>\n      <td>-6069.6</td>\n      <td>5805.91</td>\n      <td>NaN</td>\n      <td>NaN</td>\n    </tr>\n    <tr>\n      <th>14</th>\n      <td>smallGrid_MAXN_pcmn_Eval3_MC_gh0_Eval3_MCTS_gh1</td>\n      <td>1.79</td>\n      <td>1.47</td>\n      <td>-1125.7</td>\n      <td>794.60</td>\n      <td>-5960.2</td>\n      <td>5732.42</td>\n      <td>NaN</td>\n      <td>NaN</td>\n    </tr>\n    <tr>\n      <th>15</th>\n      <td>smallGrid_MAXN_pcmn_Eval3_MC_gh0_Eval1_MCTS_gh...</td>\n      <td>1.94</td>\n      <td>1.34</td>\n      <td>-723.8</td>\n      <td>992.51</td>\n      <td>-6404.3</td>\n      <td>4796.31</td>\n      <td>NaN</td>\n      <td>NaN</td>\n    </tr>\n    <tr>\n      <th>16</th>\n      <td>smallGrid_MAXN_pcmn_Eval3_MC_gh0_Eval2_MCTS_gh...</td>\n      <td>1.74</td>\n      <td>3.02</td>\n      <td>-1528.0</td>\n      <td>48.49</td>\n      <td>-5411.8</td>\n      <td>11166.01</td>\n      <td>NaN</td>\n      <td>NaN</td>\n    </tr>\n    <tr>\n      <th>17</th>\n      <td>smallGrid_MAXN_pcmn_Eval3_MC_gh0_Eval3_MCTS_gh...</td>\n      <td>1.64</td>\n      <td>1.83</td>\n      <td>-1122.4</td>\n      <td>789.52</td>\n      <td>-5293.1</td>\n      <td>7021.08</td>\n      <td>NaN</td>\n      <td>NaN</td>\n    </tr>\n    <tr>\n      <th>18</th>\n      <td>smallGrid_MAXN_pcmn_Eval1_MC_gh0_isEval_Eval1_...</td>\n      <td>1.04</td>\n      <td>0.63</td>\n      <td>-1112.9</td>\n      <td>803.51</td>\n      <td>-3029.0</td>\n      <td>2550.25</td>\n      <td>NaN</td>\n      <td>NaN</td>\n    </tr>\n    <tr>\n      <th>19</th>\n      <td>smallGrid_MAXN_pcmn_Eval1_MC_gh0_isEval_Eval2_...</td>\n      <td>1.65</td>\n      <td>0.92</td>\n      <td>-1524.9</td>\n      <td>15.90</td>\n      <td>-4954.0</td>\n      <td>3395.89</td>\n      <td>NaN</td>\n      <td>NaN</td>\n    </tr>\n    <tr>\n      <th>20</th>\n      <td>smallGrid_MAXN_pcmn_Eval1_MC_gh0_isEval_Eval3_...</td>\n      <td>1.43</td>\n      <td>1.35</td>\n      <td>-1118.3</td>\n      <td>798.19</td>\n      <td>-4719.9</td>\n      <td>5377.39</td>\n      <td>NaN</td>\n      <td>NaN</td>\n    </tr>\n    <tr>\n      <th>21</th>\n      <td>smallGrid_MAXN_pcmn_Eval1_MC_gh0_isEval_Eval1_...</td>\n      <td>1.51</td>\n      <td>1.32</td>\n      <td>-1123.1</td>\n      <td>799.41</td>\n      <td>-5668.2</td>\n      <td>5766.62</td>\n      <td>NaN</td>\n      <td>NaN</td>\n    </tr>\n    <tr>\n      <th>22</th>\n      <td>smallGrid_MAXN_pcmn_Eval1_MC_gh0_isEval_Eval2_...</td>\n      <td>1.85</td>\n      <td>1.94</td>\n      <td>-1533.5</td>\n      <td>36.48</td>\n      <td>-6821.7</td>\n      <td>8192.01</td>\n      <td>NaN</td>\n      <td>NaN</td>\n    </tr>\n    <tr>\n      <th>23</th>\n      <td>smallGrid_MAXN_pcmn_Eval1_MC_gh0_isEval_Eval3_...</td>\n      <td>1.57</td>\n      <td>1.60</td>\n      <td>-1125.7</td>\n      <td>792.72</td>\n      <td>-5815.2</td>\n      <td>6955.99</td>\n      <td>NaN</td>\n      <td>NaN</td>\n    </tr>\n    <tr>\n      <th>24</th>\n      <td>smallGrid_MAXN_pcmn_Eval2_MC_gh0_isEval_Eval1_...</td>\n      <td>1.13</td>\n      <td>0.95</td>\n      <td>-1320.3</td>\n      <td>606.68</td>\n      <td>-3882.0</td>\n      <td>4011.18</td>\n      <td>NaN</td>\n      <td>NaN</td>\n    </tr>\n    <tr>\n      <th>25</th>\n      <td>smallGrid_MAXN_pcmn_Eval2_MC_gh0_isEval_Eval2_...</td>\n      <td>0.93</td>\n      <td>0.66</td>\n      <td>-1314.3</td>\n      <td>602.23</td>\n      <td>-3021.4</td>\n      <td>2924.75</td>\n      <td>NaN</td>\n      <td>NaN</td>\n    </tr>\n    <tr>\n      <th>26</th>\n      <td>smallGrid_MAXN_pcmn_Eval2_MC_gh0_isEval_Eval3_...</td>\n      <td>0.74</td>\n      <td>0.43</td>\n      <td>-1311.1</td>\n      <td>604.76</td>\n      <td>-2341.8</td>\n      <td>1943.40</td>\n      <td>NaN</td>\n      <td>NaN</td>\n    </tr>\n    <tr>\n      <th>27</th>\n      <td>smallGrid_MAXN_pcmn_Eval2_MC_gh0_isEval_Eval1_...</td>\n      <td>1.16</td>\n      <td>0.96</td>\n      <td>-1522.5</td>\n      <td>18.90</td>\n      <td>-4090.4</td>\n      <td>4199.97</td>\n      <td>NaN</td>\n      <td>NaN</td>\n    </tr>\n    <tr>\n      <th>28</th>\n      <td>smallGrid_MAXN_pcmn_Eval2_MC_gh0_isEval_Eval2_...</td>\n      <td>1.44</td>\n      <td>1.23</td>\n      <td>-719.5</td>\n      <td>981.09</td>\n      <td>-5697.4</td>\n      <td>5613.31</td>\n      <td>NaN</td>\n      <td>NaN</td>\n    </tr>\n    <tr>\n      <th>29</th>\n      <td>smallGrid_MAXN_pcmn_Eval2_MC_gh0_isEval_Eval3_...</td>\n      <td>0.74</td>\n      <td>0.44</td>\n      <td>-1109.9</td>\n      <td>803.73</td>\n      <td>-2415.7</td>\n      <td>2133.71</td>\n      <td>NaN</td>\n      <td>NaN</td>\n    </tr>\n    <tr>\n      <th>30</th>\n      <td>smallGrid_MAXN_pcmn_Eval3_MC_gh0_isEval_Eval1_...</td>\n      <td>1.19</td>\n      <td>0.57</td>\n      <td>-513.3</td>\n      <td>1006.75</td>\n      <td>-4673.8</td>\n      <td>2686.54</td>\n      <td>NaN</td>\n      <td>NaN</td>\n    </tr>\n    <tr>\n      <th>31</th>\n      <td>smallGrid_MAXN_pcmn_Eval3_MC_gh0_isEval_Eval2_...</td>\n      <td>2.23</td>\n      <td>3.65</td>\n      <td>-531.8</td>\n      <td>985.85</td>\n      <td>-9222.1</td>\n      <td>15998.50</td>\n      <td>NaN</td>\n      <td>NaN</td>\n    </tr>\n    <tr>\n      <th>32</th>\n      <td>smallGrid_MAXN_pcmn_Eval3_MC_gh0_isEval_Eval3_...</td>\n      <td>0.72</td>\n      <td>0.64</td>\n      <td>-1312.5</td>\n      <td>594.51</td>\n      <td>-2265.7</td>\n      <td>3086.48</td>\n      <td>NaN</td>\n      <td>NaN</td>\n    </tr>\n    <tr>\n      <th>33</th>\n      <td>smallGrid_MAXN_pcmn_Eval3_MC_gh0_isEval_Eval1_...</td>\n      <td>1.41</td>\n      <td>0.71</td>\n      <td>-720.2</td>\n      <td>994.53</td>\n      <td>-5653.5</td>\n      <td>3014.73</td>\n      <td>NaN</td>\n      <td>NaN</td>\n    </tr>\n    <tr>\n      <th>34</th>\n      <td>smallGrid_MAXN_pcmn_Eval3_MC_gh0_isEval_Eval2_...</td>\n      <td>0.68</td>\n      <td>0.59</td>\n      <td>-1512.8</td>\n      <td>9.50</td>\n      <td>-2061.2</td>\n      <td>2621.98</td>\n      <td>NaN</td>\n      <td>NaN</td>\n    </tr>\n    <tr>\n      <th>35</th>\n      <td>smallGrid_MAXN_pcmn_Eval3_MC_gh0_isEval_Eval3_...</td>\n      <td>2.25</td>\n      <td>1.87</td>\n      <td>-937.7</td>\n      <td>908.62</td>\n      <td>-9214.0</td>\n      <td>8462.64</td>\n      <td>NaN</td>\n      <td>NaN</td>\n    </tr>\n  </tbody>\n</table>\n</div>"
     },
     "metadata": {}
    }
   ],
   "source": [
    "results = []\n",
    "t0 = timeit.default_timer()   \n",
    "for i in range(len(all_tests)):   \n",
    "        values = []\n",
    "        times = []    \n",
    "        for _ in range(number_of_runs):\n",
    "            value, time = run_test(all_tests[i])            \n",
    "            values.append(value)\n",
    "            times.append(time)\n",
    "        #compute avg and std and and add to results\n",
    "        value_avg = np.round(np.mean(np.array(values), axis=0),2)\n",
    "        time_avg = np.round(np.mean(np.array(times)),2)\n",
    "        value_std = np.round(np.std(np.array(values), axis=0),2)\n",
    "        time_std = np.round(np.std(np.array(times)),2)\n",
    "        result = {'TestName':all_tests[i].test_name,'Time_Avg':time_avg,'Time_Std':time_std, \n",
    "                  'P_Value_Avg':value_avg[0], \n",
    "                  'P_Value_Std':value_std[0],\n",
    "                  'GH0_Value_Avg':value_avg[1], \n",
    "                  'GH0_Value_Std':value_std[1],\n",
    "                  'GH1_Value_Avg':value_avg[2], \n",
    "                  'GH1_Value_Std':value_std[2]\n",
    "                  }\n",
    "        results.append(result)\n",
    "results = pd.DataFrame(results)\n",
    "t1 = timeit.default_timer()    \n",
    "time = t1-t0  \n",
    "print(\"All tests time: \", time, \"seconds.\")  \n",
    "pd.set_option('display.max_rows', 100)  \n",
    "display(results)"
   ]
  },
  {
   "cell_type": "code",
   "execution_count": null,
   "metadata": {},
   "outputs": [],
   "source": []
  }
 ],
 "metadata": {
  "kernelspec": {
   "display_name": "Python 3",
   "language": "python",
   "name": "python3"
  },
  "language_info": {
   "codemirror_mode": {
    "name": "ipython",
    "version": 3
   },
   "file_extension": ".py",
   "mimetype": "text/x-python",
   "name": "python",
   "nbconvert_exporter": "python",
   "pygments_lexer": "ipython3",
   "version": "3.8.3-final"
  }
 },
 "nbformat": 4,
 "nbformat_minor": 2
}