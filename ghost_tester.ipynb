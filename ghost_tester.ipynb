{
 "cells": [
  {
   "cell_type": "code",
   "execution_count": 2,
   "metadata": {},
   "outputs": [],
   "source": [
    "from game_logic.ghostAgents import RandomGhost\n",
    "from entregables.maxNAgent import MaxNAgent\n",
    "from game_logic.randomPacman import RandomPacman\n",
    "from game_logic.PacmanEnvAbs import PacmanEnvAbs\n",
    "import random\n",
    "import math\n",
    "import numpy as np\n",
    "from game_logic.game_util import process_state\n",
    "from main import get_default_agents\n",
    "import timeit \n",
    "import pandas as pd\n",
    "\n",
    "all_layouts = [\n",
    "        \"custom1\",\n",
    "        \"custom2\",\n",
    "        \"capsuleClassic\",\n",
    "        \"contestClassic\",\n",
    "        \"mediumClassic\",\n",
    "        \"minimaxClassic\",\n",
    "        \"openClassic\",\n",
    "        \"originalClassic\",\n",
    "        \"smallClassic\",\n",
    "        \"testClassic\",\n",
    "        \"trappedClassic\",\n",
    "        \"trickyClassic\",\n",
    "        \"mediumGrid\",\n",
    "        \"smallGrid\"\n",
    "    ]\n",
    "\n",
    "# Parametros para un test\n",
    "class TestParams():\n",
    "    def __init__(self, test_name, layout, pacman_agent, ghost_agent_0, ghost_agent_1):        \n",
    "        self.test_name = test_name\n",
    "        self.layout = layout\n",
    "        self.pacman_agent = pacman_agent\n",
    "        self.ghost_agent_0 = ghost_agent_0\n",
    "        self.ghost_agent_1 = ghost_agent_1\n"
   ]
  },
  {
   "cell_type": "code",
   "execution_count": 3,
   "metadata": {},
   "outputs": [],
   "source": [
    "def run_test(test_params):  \n",
    "    t0 = timeit.default_timer()   \n",
    "    pacman_agent = test_params.pacman_agent\n",
    "    ghost_agent_0 = test_params.ghost_agent_0\n",
    "    ghost_agent_1 = test_params.ghost_agent_1\n",
    "    agents = [pacman_agent, ghost_agent_0, ghost_agent_1]\n",
    "    agents.extend(get_default_agents(3, 10))    \n",
    "    done = False\n",
    "    env = PacmanEnvAbs(agents = agents, view_distance = (2, 2))      \n",
    "    game_state = env.reset(enable_render= False, layout_name= test_params.layout)\n",
    "    turn_index = 0\n",
    "    while (not(done)):\n",
    "        action = agents[turn_index].getAction(game_state)\n",
    "        game_state, rewards, done, info = env.step(action, turn_index)        \n",
    "        turn_index = (turn_index + 1) % env._get_num_agents()  \n",
    "    t1 = timeit.default_timer()    \n",
    "    time = t1-t0  \n",
    "    assert(game_state.getNumAgents()>=2)\n",
    "    if game_state.getNumAgents()==2:\n",
    "        ret = game_state.get_rewards()\n",
    "        ret.append(np.nan)\n",
    "    else:\n",
    "        ret = game_state.get_rewards()[0:3]\n",
    "    return ret, time"
   ]
  },
  {
   "cell_type": "code",
   "execution_count": 4,
   "metadata": {},
   "outputs": [
    {
     "output_type": "stream",
     "name": "stdout",
     "text": [
      "([-1509, -4256.0, nan], 1.6934215809997113)\n"
     ]
    }
   ],
   "source": [
    "pacman_agent = RandomPacman(index = 0)\n",
    "ghost_agent_0 = MaxNAgent(index = 1, unroll_type=\"MCTS\", max_unroll_depth=12, number_of_unrolls=6)\n",
    "ghost_agent_1 = RandomGhost(index = 2)\n",
    "sample_test = TestParams(\"PrimerTest\", \"mediumGrid\", pacman_agent, ghost_agent_0, ghost_agent_1)\n",
    "print(run_test(sample_test))\n"
   ]
  },
  {
   "cell_type": "code",
   "execution_count": 5,
   "metadata": {},
   "outputs": [],
   "source": [
    "selected_layouts = [  \n",
    "        \"smallClassic\"\n",
    "    ]\n",
    "# 1 pacman:\n",
    "    # MCTS --> Eval 1 (get_rewards)\n",
    "pacmans = [\n",
    "    (\"MAXN_pcmn\",MaxNAgent(index = 0, unroll_type=\"MCTS\", max_unroll_depth=5, number_of_unrolls=10))\n",
    "]\n",
    "\n",
    "# 6 ghosts:\n",
    "    # MC ---> Eval 1 (get_rewards)\n",
    "    # MC ---> Eval 2 (get_rewards)\n",
    "    # MC ---> Eval 3 (get_rewards)\n",
    "    # MC ---> Eval 1 (use_eval_in_end)\n",
    "    # MC ---> Eval 2 (use_eval_in_end)\n",
    "    # MC ---> Eval 3 (use_eval_in_end)    \n",
    "ghosts0s = [\n",
    "    (\"Eval1_MC_gh0\", MaxNAgent(index = 1, unroll_type=\"MC\", max_unroll_depth=5, number_of_unrolls=10, eval_id=1, use_eval_in_end=False)),\n",
    "    (\"Eval2_MC_gh0\", MaxNAgent(index = 1, unroll_type=\"MC\", max_unroll_depth=5, number_of_unrolls=10, eval_id=2, use_eval_in_end=False)),\n",
    "    (\"Eval3_MC_gh0\", MaxNAgent(index = 1, unroll_type=\"MC\", max_unroll_depth=5, number_of_unrolls=10, eval_id=3, use_eval_in_end=False)),\n",
    "    (\"Eval1_MC_gh0_isEval\", MaxNAgent(index = 1, unroll_type=\"MC\", max_unroll_depth=5, number_of_unrolls=10, eval_id=1, use_eval_in_end=True)),\n",
    "    (\"Eval2_MC_gh0_isEval\", MaxNAgent(index = 1, unroll_type=\"MC\", max_unroll_depth=5, number_of_unrolls=10, eval_id=2, use_eval_in_end=True)),\n",
    "    (\"Eval3_MC_gh0_isEval\", MaxNAgent(index = 1, unroll_type=\"MC\", max_unroll_depth=5, number_of_unrolls=10, eval_id=3, use_eval_in_end=True))    \n",
    "]\n",
    "\n",
    "# 6 ghosts:\n",
    "    # MCTS ---> Eval 1 (get_rewards)\n",
    "    # MCTS ---> Eval 2 (get_rewards)\n",
    "    # MCTS ---> Eval 3 (get_rewards)\n",
    "    # MCTS ---> Eval 1 (use_eval_in_end)\n",
    "    # MCTS ---> Eval 2 (use_eval_in_end)\n",
    "    # MCTS ---> Eval 3 (use_eval_in_end) \n",
    "ghosts1s = [\n",
    "    (\"Eval1_MCTS_gh1\", MaxNAgent(index = 2, unroll_type=\"MCTS\", max_unroll_depth=5, number_of_unrolls=10, eval_id=1, use_eval_in_end=False)),\n",
    "    (\"Eval2_MCTS_gh1\", MaxNAgent(index = 2, unroll_type=\"MCTS\", max_unroll_depth=5, number_of_unrolls=10, eval_id=2, use_eval_in_end=False)),\n",
    "    (\"Eval3_MCTS_gh1\", MaxNAgent(index = 2, unroll_type=\"MCTS\", max_unroll_depth=5, number_of_unrolls=10, eval_id=3, use_eval_in_end=False)),\n",
    "    (\"Eval1_MCTS_gh1_isEval\", MaxNAgent(index = 2, unroll_type=\"MCTS\", max_unroll_depth=5, number_of_unrolls=10, eval_id=1, use_eval_in_end=True)),\n",
    "    (\"Eval2_MCTS_gh1_isEval\", MaxNAgent(index = 2, unroll_type=\"MCTS\", max_unroll_depth=5, number_of_unrolls=10, eval_id=2, use_eval_in_end=True)),\n",
    "    (\"Eval3_MCTS_gh1_isEval\", MaxNAgent(index = 2, unroll_type=\"MCTS\", max_unroll_depth=5, number_of_unrolls=10, eval_id=3, use_eval_in_end=True))    \n",
    "]"
   ]
  },
  {
   "cell_type": "code",
   "execution_count": 6,
   "metadata": {},
   "outputs": [],
   "source": [
    "all_tests = []\n",
    "for layout in selected_layouts:\n",
    "    for pacman_name, pacman_agent in pacmans:\n",
    "        for ghost0_name, ghost_0 in ghosts0s:\n",
    "            for ghost1_name, ghost_1 in ghosts1s:\n",
    "                # Sacamos el layout y pacman porque usamos siempre smallClassic y MAXN_pcmn (MCTS) en todos los test.\n",
    "                name = ghost0_name+\"_\"+ghost1_name\n",
    "                test = TestParams(name, layout, pacman_agent, ghost_agent_0, ghost_agent_1)\n",
    "                all_tests.append(test)\n",
    "number_of_runs = 10"
   ]
  },
  {
   "cell_type": "code",
   "execution_count": 7,
   "metadata": {},
   "outputs": [
    {
     "output_type": "stream",
     "name": "stdout",
     "text": [
      "All tests time:  9485.123584251 seconds.\n"
     ]
    },
    {
     "output_type": "display_data",
     "data": {
      "text/plain": "                                     TestName  Time_Avg  Time_Std  \\\n0                 Eval1_MC_gh0_Eval1_MCTS_gh1     27.20     15.26   \n1                 Eval1_MC_gh0_Eval2_MCTS_gh1     37.09     28.88   \n2                 Eval1_MC_gh0_Eval3_MCTS_gh1     21.49     18.49   \n3          Eval1_MC_gh0_Eval1_MCTS_gh1_isEval     26.20     14.44   \n4          Eval1_MC_gh0_Eval2_MCTS_gh1_isEval     21.24      9.79   \n5          Eval1_MC_gh0_Eval3_MCTS_gh1_isEval     15.20     15.54   \n6                 Eval2_MC_gh0_Eval1_MCTS_gh1     14.82     16.21   \n7                 Eval2_MC_gh0_Eval2_MCTS_gh1     20.36     12.11   \n8                 Eval2_MC_gh0_Eval3_MCTS_gh1     28.89     25.88   \n9          Eval2_MC_gh0_Eval1_MCTS_gh1_isEval     27.15     12.69   \n10         Eval2_MC_gh0_Eval2_MCTS_gh1_isEval     44.77     45.09   \n11         Eval2_MC_gh0_Eval3_MCTS_gh1_isEval     26.54     14.06   \n12                Eval3_MC_gh0_Eval1_MCTS_gh1     23.20     19.14   \n13                Eval3_MC_gh0_Eval2_MCTS_gh1     18.38      8.00   \n14                Eval3_MC_gh0_Eval3_MCTS_gh1     21.83     17.26   \n15         Eval3_MC_gh0_Eval1_MCTS_gh1_isEval     25.33     14.94   \n16         Eval3_MC_gh0_Eval2_MCTS_gh1_isEval     29.79     15.58   \n17         Eval3_MC_gh0_Eval3_MCTS_gh1_isEval     23.07     15.69   \n18         Eval1_MC_gh0_isEval_Eval1_MCTS_gh1     22.54     22.54   \n19         Eval1_MC_gh0_isEval_Eval2_MCTS_gh1     17.85      8.71   \n20         Eval1_MC_gh0_isEval_Eval3_MCTS_gh1     19.98     11.16   \n21  Eval1_MC_gh0_isEval_Eval1_MCTS_gh1_isEval     31.39     31.64   \n22  Eval1_MC_gh0_isEval_Eval2_MCTS_gh1_isEval     17.05      8.94   \n23  Eval1_MC_gh0_isEval_Eval3_MCTS_gh1_isEval     25.30      9.70   \n24         Eval2_MC_gh0_isEval_Eval1_MCTS_gh1     24.44     18.61   \n25         Eval2_MC_gh0_isEval_Eval2_MCTS_gh1     29.10     16.35   \n26         Eval2_MC_gh0_isEval_Eval3_MCTS_gh1     23.84     14.50   \n27  Eval2_MC_gh0_isEval_Eval1_MCTS_gh1_isEval     28.76     13.94   \n28  Eval2_MC_gh0_isEval_Eval2_MCTS_gh1_isEval     18.72     23.40   \n29  Eval2_MC_gh0_isEval_Eval3_MCTS_gh1_isEval     28.72     16.01   \n30         Eval3_MC_gh0_isEval_Eval1_MCTS_gh1     26.46     18.58   \n31         Eval3_MC_gh0_isEval_Eval2_MCTS_gh1     43.35     33.68   \n32         Eval3_MC_gh0_isEval_Eval3_MCTS_gh1     38.66     29.13   \n33  Eval3_MC_gh0_isEval_Eval1_MCTS_gh1_isEval     47.50     36.62   \n34  Eval3_MC_gh0_isEval_Eval2_MCTS_gh1_isEval     23.65     14.86   \n35  Eval3_MC_gh0_isEval_Eval3_MCTS_gh1_isEval     28.62     20.98   \n\n    P_Value_Avg  P_Value_Std  GH0_Value_Avg  GH0_Value_Std  GH1_Value_Avg  \\\n0       -1406.1       171.32       -26501.1       14846.20       -29847.3   \n1       -1319.2       298.55       -36418.0       28689.92       -41386.3   \n2       -1399.3       159.22       -20977.8       18174.14       -23669.3   \n3       -1466.8       130.67       -25707.3       14201.17       -28962.0   \n4       -1367.3       183.44       -20817.0        9460.02       -23187.2   \n5       -1466.7        79.84       -14705.7       14908.15       -16342.4   \n6       -1414.8       126.44       -14339.8       15769.97       -16028.4   \n7       -1403.8       184.11       -19950.7       11855.68       -22174.7   \n8       -1367.1       211.64       -28290.2       25298.10       -31826.1   \n9       -1461.2       145.54       -26493.1       12350.39       -30000.5   \n10      -1552.8       306.65       -43857.4       44403.27       -50078.5   \n11      -1398.3       204.27       -25864.3       13725.76       -29254.4   \n12      -1402.7        95.44       -22628.5       18456.05       -25460.2   \n13      -1420.6       111.46       -18075.6        7898.17       -19974.0   \n14      -1400.4       136.00       -21419.2       16940.08       -23869.3   \n15      -1321.7       253.21       -24878.5       14892.84       -28062.4   \n16      -1464.4       152.87       -29034.0       15323.60       -33213.1   \n17      -1326.8       214.99       -22498.0       15502.99       -25435.2   \n18      -1353.0       142.30       -21801.3       21838.34       -24757.7   \n19      -1373.5       146.49       -17111.4        8369.84       -19562.2   \n20      -1329.3       124.68       -19301.2       11071.67       -22065.3   \n21      -1487.6       128.73       -30603.8       30841.04       -34646.1   \n22      -1375.1       141.46       -16599.0        8886.57       -18534.6   \n23      -1349.0       130.41       -24659.5        9383.45       -27793.1   \n24      -1360.3       138.22       -23850.4       18438.98       -27005.0   \n25      -1387.9       179.93       -28445.0       15379.28       -32278.3   \n26      -1358.1       194.65       -23324.3       14446.36       -26423.2   \n27      -1428.8       180.47       -28195.0       14037.36       -32064.8   \n28      -1406.3       215.40       -18167.4       23313.21       -20540.5   \n29      -1377.4       118.76       -27145.4       15937.15       -30688.4   \n30      -1346.0       120.28       -22957.1       15131.62       -25763.4   \n31      -1444.3       174.47       -40095.6       31140.12       -45845.4   \n32      -1499.3       194.17       -37737.5       28024.06       -42817.7   \n33      -1523.0       162.06       -40909.2       30760.82       -46923.1   \n34      -1403.5       125.98       -21455.2       13634.76       -24343.1   \n35      -1338.5       190.88       -25802.9       19032.39       -28979.7   \n\n    GH1_Value_Std  \n0        17336.20  \n1        32917.81  \n2        21031.45  \n3        16539.82  \n4        11091.58  \n5        17751.03  \n6        18408.28  \n7        13813.43  \n8        29377.39  \n9        14491.41  \n10       51432.96  \n11       15969.25  \n12       21830.06  \n13        9105.11  \n14       19607.64  \n15       17068.40  \n16       17785.99  \n17       17772.13  \n18       25575.98  \n19       10031.09  \n20       12606.74  \n21       35906.57  \n22       10019.19  \n23       11008.79  \n24       21156.58  \n25       18638.78  \n26       16468.34  \n27       15660.13  \n28       26604.08  \n29       18390.82  \n30       17620.14  \n31       35756.17  \n32       32255.69  \n33       35655.12  \n34       15706.09  \n35       22193.74  ",
      "text/html": "<div>\n<style scoped>\n    .dataframe tbody tr th:only-of-type {\n        vertical-align: middle;\n    }\n\n    .dataframe tbody tr th {\n        vertical-align: top;\n    }\n\n    .dataframe thead th {\n        text-align: right;\n    }\n</style>\n<table border=\"1\" class=\"dataframe\">\n  <thead>\n    <tr style=\"text-align: right;\">\n      <th></th>\n      <th>TestName</th>\n      <th>Time_Avg</th>\n      <th>Time_Std</th>\n      <th>P_Value_Avg</th>\n      <th>P_Value_Std</th>\n      <th>GH0_Value_Avg</th>\n      <th>GH0_Value_Std</th>\n      <th>GH1_Value_Avg</th>\n      <th>GH1_Value_Std</th>\n    </tr>\n  </thead>\n  <tbody>\n    <tr>\n      <th>0</th>\n      <td>Eval1_MC_gh0_Eval1_MCTS_gh1</td>\n      <td>27.20</td>\n      <td>15.26</td>\n      <td>-1406.1</td>\n      <td>171.32</td>\n      <td>-26501.1</td>\n      <td>14846.20</td>\n      <td>-29847.3</td>\n      <td>17336.20</td>\n    </tr>\n    <tr>\n      <th>1</th>\n      <td>Eval1_MC_gh0_Eval2_MCTS_gh1</td>\n      <td>37.09</td>\n      <td>28.88</td>\n      <td>-1319.2</td>\n      <td>298.55</td>\n      <td>-36418.0</td>\n      <td>28689.92</td>\n      <td>-41386.3</td>\n      <td>32917.81</td>\n    </tr>\n    <tr>\n      <th>2</th>\n      <td>Eval1_MC_gh0_Eval3_MCTS_gh1</td>\n      <td>21.49</td>\n      <td>18.49</td>\n      <td>-1399.3</td>\n      <td>159.22</td>\n      <td>-20977.8</td>\n      <td>18174.14</td>\n      <td>-23669.3</td>\n      <td>21031.45</td>\n    </tr>\n    <tr>\n      <th>3</th>\n      <td>Eval1_MC_gh0_Eval1_MCTS_gh1_isEval</td>\n      <td>26.20</td>\n      <td>14.44</td>\n      <td>-1466.8</td>\n      <td>130.67</td>\n      <td>-25707.3</td>\n      <td>14201.17</td>\n      <td>-28962.0</td>\n      <td>16539.82</td>\n    </tr>\n    <tr>\n      <th>4</th>\n      <td>Eval1_MC_gh0_Eval2_MCTS_gh1_isEval</td>\n      <td>21.24</td>\n      <td>9.79</td>\n      <td>-1367.3</td>\n      <td>183.44</td>\n      <td>-20817.0</td>\n      <td>9460.02</td>\n      <td>-23187.2</td>\n      <td>11091.58</td>\n    </tr>\n    <tr>\n      <th>5</th>\n      <td>Eval1_MC_gh0_Eval3_MCTS_gh1_isEval</td>\n      <td>15.20</td>\n      <td>15.54</td>\n      <td>-1466.7</td>\n      <td>79.84</td>\n      <td>-14705.7</td>\n      <td>14908.15</td>\n      <td>-16342.4</td>\n      <td>17751.03</td>\n    </tr>\n    <tr>\n      <th>6</th>\n      <td>Eval2_MC_gh0_Eval1_MCTS_gh1</td>\n      <td>14.82</td>\n      <td>16.21</td>\n      <td>-1414.8</td>\n      <td>126.44</td>\n      <td>-14339.8</td>\n      <td>15769.97</td>\n      <td>-16028.4</td>\n      <td>18408.28</td>\n    </tr>\n    <tr>\n      <th>7</th>\n      <td>Eval2_MC_gh0_Eval2_MCTS_gh1</td>\n      <td>20.36</td>\n      <td>12.11</td>\n      <td>-1403.8</td>\n      <td>184.11</td>\n      <td>-19950.7</td>\n      <td>11855.68</td>\n      <td>-22174.7</td>\n      <td>13813.43</td>\n    </tr>\n    <tr>\n      <th>8</th>\n      <td>Eval2_MC_gh0_Eval3_MCTS_gh1</td>\n      <td>28.89</td>\n      <td>25.88</td>\n      <td>-1367.1</td>\n      <td>211.64</td>\n      <td>-28290.2</td>\n      <td>25298.10</td>\n      <td>-31826.1</td>\n      <td>29377.39</td>\n    </tr>\n    <tr>\n      <th>9</th>\n      <td>Eval2_MC_gh0_Eval1_MCTS_gh1_isEval</td>\n      <td>27.15</td>\n      <td>12.69</td>\n      <td>-1461.2</td>\n      <td>145.54</td>\n      <td>-26493.1</td>\n      <td>12350.39</td>\n      <td>-30000.5</td>\n      <td>14491.41</td>\n    </tr>\n    <tr>\n      <th>10</th>\n      <td>Eval2_MC_gh0_Eval2_MCTS_gh1_isEval</td>\n      <td>44.77</td>\n      <td>45.09</td>\n      <td>-1552.8</td>\n      <td>306.65</td>\n      <td>-43857.4</td>\n      <td>44403.27</td>\n      <td>-50078.5</td>\n      <td>51432.96</td>\n    </tr>\n    <tr>\n      <th>11</th>\n      <td>Eval2_MC_gh0_Eval3_MCTS_gh1_isEval</td>\n      <td>26.54</td>\n      <td>14.06</td>\n      <td>-1398.3</td>\n      <td>204.27</td>\n      <td>-25864.3</td>\n      <td>13725.76</td>\n      <td>-29254.4</td>\n      <td>15969.25</td>\n    </tr>\n    <tr>\n      <th>12</th>\n      <td>Eval3_MC_gh0_Eval1_MCTS_gh1</td>\n      <td>23.20</td>\n      <td>19.14</td>\n      <td>-1402.7</td>\n      <td>95.44</td>\n      <td>-22628.5</td>\n      <td>18456.05</td>\n      <td>-25460.2</td>\n      <td>21830.06</td>\n    </tr>\n    <tr>\n      <th>13</th>\n      <td>Eval3_MC_gh0_Eval2_MCTS_gh1</td>\n      <td>18.38</td>\n      <td>8.00</td>\n      <td>-1420.6</td>\n      <td>111.46</td>\n      <td>-18075.6</td>\n      <td>7898.17</td>\n      <td>-19974.0</td>\n      <td>9105.11</td>\n    </tr>\n    <tr>\n      <th>14</th>\n      <td>Eval3_MC_gh0_Eval3_MCTS_gh1</td>\n      <td>21.83</td>\n      <td>17.26</td>\n      <td>-1400.4</td>\n      <td>136.00</td>\n      <td>-21419.2</td>\n      <td>16940.08</td>\n      <td>-23869.3</td>\n      <td>19607.64</td>\n    </tr>\n    <tr>\n      <th>15</th>\n      <td>Eval3_MC_gh0_Eval1_MCTS_gh1_isEval</td>\n      <td>25.33</td>\n      <td>14.94</td>\n      <td>-1321.7</td>\n      <td>253.21</td>\n      <td>-24878.5</td>\n      <td>14892.84</td>\n      <td>-28062.4</td>\n      <td>17068.40</td>\n    </tr>\n    <tr>\n      <th>16</th>\n      <td>Eval3_MC_gh0_Eval2_MCTS_gh1_isEval</td>\n      <td>29.79</td>\n      <td>15.58</td>\n      <td>-1464.4</td>\n      <td>152.87</td>\n      <td>-29034.0</td>\n      <td>15323.60</td>\n      <td>-33213.1</td>\n      <td>17785.99</td>\n    </tr>\n    <tr>\n      <th>17</th>\n      <td>Eval3_MC_gh0_Eval3_MCTS_gh1_isEval</td>\n      <td>23.07</td>\n      <td>15.69</td>\n      <td>-1326.8</td>\n      <td>214.99</td>\n      <td>-22498.0</td>\n      <td>15502.99</td>\n      <td>-25435.2</td>\n      <td>17772.13</td>\n    </tr>\n    <tr>\n      <th>18</th>\n      <td>Eval1_MC_gh0_isEval_Eval1_MCTS_gh1</td>\n      <td>22.54</td>\n      <td>22.54</td>\n      <td>-1353.0</td>\n      <td>142.30</td>\n      <td>-21801.3</td>\n      <td>21838.34</td>\n      <td>-24757.7</td>\n      <td>25575.98</td>\n    </tr>\n    <tr>\n      <th>19</th>\n      <td>Eval1_MC_gh0_isEval_Eval2_MCTS_gh1</td>\n      <td>17.85</td>\n      <td>8.71</td>\n      <td>-1373.5</td>\n      <td>146.49</td>\n      <td>-17111.4</td>\n      <td>8369.84</td>\n      <td>-19562.2</td>\n      <td>10031.09</td>\n    </tr>\n    <tr>\n      <th>20</th>\n      <td>Eval1_MC_gh0_isEval_Eval3_MCTS_gh1</td>\n      <td>19.98</td>\n      <td>11.16</td>\n      <td>-1329.3</td>\n      <td>124.68</td>\n      <td>-19301.2</td>\n      <td>11071.67</td>\n      <td>-22065.3</td>\n      <td>12606.74</td>\n    </tr>\n    <tr>\n      <th>21</th>\n      <td>Eval1_MC_gh0_isEval_Eval1_MCTS_gh1_isEval</td>\n      <td>31.39</td>\n      <td>31.64</td>\n      <td>-1487.6</td>\n      <td>128.73</td>\n      <td>-30603.8</td>\n      <td>30841.04</td>\n      <td>-34646.1</td>\n      <td>35906.57</td>\n    </tr>\n    <tr>\n      <th>22</th>\n      <td>Eval1_MC_gh0_isEval_Eval2_MCTS_gh1_isEval</td>\n      <td>17.05</td>\n      <td>8.94</td>\n      <td>-1375.1</td>\n      <td>141.46</td>\n      <td>-16599.0</td>\n      <td>8886.57</td>\n      <td>-18534.6</td>\n      <td>10019.19</td>\n    </tr>\n    <tr>\n      <th>23</th>\n      <td>Eval1_MC_gh0_isEval_Eval3_MCTS_gh1_isEval</td>\n      <td>25.30</td>\n      <td>9.70</td>\n      <td>-1349.0</td>\n      <td>130.41</td>\n      <td>-24659.5</td>\n      <td>9383.45</td>\n      <td>-27793.1</td>\n      <td>11008.79</td>\n    </tr>\n    <tr>\n      <th>24</th>\n      <td>Eval2_MC_gh0_isEval_Eval1_MCTS_gh1</td>\n      <td>24.44</td>\n      <td>18.61</td>\n      <td>-1360.3</td>\n      <td>138.22</td>\n      <td>-23850.4</td>\n      <td>18438.98</td>\n      <td>-27005.0</td>\n      <td>21156.58</td>\n    </tr>\n    <tr>\n      <th>25</th>\n      <td>Eval2_MC_gh0_isEval_Eval2_MCTS_gh1</td>\n      <td>29.10</td>\n      <td>16.35</td>\n      <td>-1387.9</td>\n      <td>179.93</td>\n      <td>-28445.0</td>\n      <td>15379.28</td>\n      <td>-32278.3</td>\n      <td>18638.78</td>\n    </tr>\n    <tr>\n      <th>26</th>\n      <td>Eval2_MC_gh0_isEval_Eval3_MCTS_gh1</td>\n      <td>23.84</td>\n      <td>14.50</td>\n      <td>-1358.1</td>\n      <td>194.65</td>\n      <td>-23324.3</td>\n      <td>14446.36</td>\n      <td>-26423.2</td>\n      <td>16468.34</td>\n    </tr>\n    <tr>\n      <th>27</th>\n      <td>Eval2_MC_gh0_isEval_Eval1_MCTS_gh1_isEval</td>\n      <td>28.76</td>\n      <td>13.94</td>\n      <td>-1428.8</td>\n      <td>180.47</td>\n      <td>-28195.0</td>\n      <td>14037.36</td>\n      <td>-32064.8</td>\n      <td>15660.13</td>\n    </tr>\n    <tr>\n      <th>28</th>\n      <td>Eval2_MC_gh0_isEval_Eval2_MCTS_gh1_isEval</td>\n      <td>18.72</td>\n      <td>23.40</td>\n      <td>-1406.3</td>\n      <td>215.40</td>\n      <td>-18167.4</td>\n      <td>23313.21</td>\n      <td>-20540.5</td>\n      <td>26604.08</td>\n    </tr>\n    <tr>\n      <th>29</th>\n      <td>Eval2_MC_gh0_isEval_Eval3_MCTS_gh1_isEval</td>\n      <td>28.72</td>\n      <td>16.01</td>\n      <td>-1377.4</td>\n      <td>118.76</td>\n      <td>-27145.4</td>\n      <td>15937.15</td>\n      <td>-30688.4</td>\n      <td>18390.82</td>\n    </tr>\n    <tr>\n      <th>30</th>\n      <td>Eval3_MC_gh0_isEval_Eval1_MCTS_gh1</td>\n      <td>26.46</td>\n      <td>18.58</td>\n      <td>-1346.0</td>\n      <td>120.28</td>\n      <td>-22957.1</td>\n      <td>15131.62</td>\n      <td>-25763.4</td>\n      <td>17620.14</td>\n    </tr>\n    <tr>\n      <th>31</th>\n      <td>Eval3_MC_gh0_isEval_Eval2_MCTS_gh1</td>\n      <td>43.35</td>\n      <td>33.68</td>\n      <td>-1444.3</td>\n      <td>174.47</td>\n      <td>-40095.6</td>\n      <td>31140.12</td>\n      <td>-45845.4</td>\n      <td>35756.17</td>\n    </tr>\n    <tr>\n      <th>32</th>\n      <td>Eval3_MC_gh0_isEval_Eval3_MCTS_gh1</td>\n      <td>38.66</td>\n      <td>29.13</td>\n      <td>-1499.3</td>\n      <td>194.17</td>\n      <td>-37737.5</td>\n      <td>28024.06</td>\n      <td>-42817.7</td>\n      <td>32255.69</td>\n    </tr>\n    <tr>\n      <th>33</th>\n      <td>Eval3_MC_gh0_isEval_Eval1_MCTS_gh1_isEval</td>\n      <td>47.50</td>\n      <td>36.62</td>\n      <td>-1523.0</td>\n      <td>162.06</td>\n      <td>-40909.2</td>\n      <td>30760.82</td>\n      <td>-46923.1</td>\n      <td>35655.12</td>\n    </tr>\n    <tr>\n      <th>34</th>\n      <td>Eval3_MC_gh0_isEval_Eval2_MCTS_gh1_isEval</td>\n      <td>23.65</td>\n      <td>14.86</td>\n      <td>-1403.5</td>\n      <td>125.98</td>\n      <td>-21455.2</td>\n      <td>13634.76</td>\n      <td>-24343.1</td>\n      <td>15706.09</td>\n    </tr>\n    <tr>\n      <th>35</th>\n      <td>Eval3_MC_gh0_isEval_Eval3_MCTS_gh1_isEval</td>\n      <td>28.62</td>\n      <td>20.98</td>\n      <td>-1338.5</td>\n      <td>190.88</td>\n      <td>-25802.9</td>\n      <td>19032.39</td>\n      <td>-28979.7</td>\n      <td>22193.74</td>\n    </tr>\n  </tbody>\n</table>\n</div>"
     },
     "metadata": {}
    }
   ],
   "source": [
    "results = []\n",
    "t0 = timeit.default_timer()   \n",
    "for i in range(len(all_tests)):   \n",
    "        values = []\n",
    "        times = []    \n",
    "        for _ in range(number_of_runs):\n",
    "            value, time = run_test(all_tests[i])            \n",
    "            values.append(value)\n",
    "            times.append(time)\n",
    "        value_avg = np.round(np.mean(np.array(values), axis=0),2)\n",
    "        time_avg = np.round(np.mean(np.array(times)),2)\n",
    "        value_std = np.round(np.std(np.array(values), axis=0),2)\n",
    "        time_std = np.round(np.std(np.array(times)),2)\n",
    "        result = {'TestName':all_tests[i].test_name,'Time_Avg':time_avg,'Time_Std':time_std, \n",
    "                  'P_Value_Avg':value_avg[0], \n",
    "                  'P_Value_Std':value_std[0],\n",
    "                  'GH0_Value_Avg':value_avg[1], \n",
    "                  'GH0_Value_Std':value_std[1],\n",
    "                  'GH1_Value_Avg':value_avg[2], \n",
    "                  'GH1_Value_Std':value_std[2]\n",
    "                  }\n",
    "        results.append(result)\n",
    "results = pd.DataFrame(results)\n",
    "t1 = timeit.default_timer()    \n",
    "time = t1-t0  \n",
    "print(\"All tests time: \", time, \"seconds.\")  \n",
    "pd.set_option('display.max_rows', 100)  \n",
    "display(results)"
   ]
  }
 ],
 "metadata": {
  "kernelspec": {
   "display_name": "Python 3",
   "language": "python",
   "name": "python3"
  },
  "language_info": {
   "codemirror_mode": {
    "name": "ipython",
    "version": 3
   },
   "file_extension": ".py",
   "mimetype": "text/x-python",
   "name": "python",
   "nbconvert_exporter": "python",
   "pygments_lexer": "ipython3",
   "version": "3.7.4-final"
  }
 },
 "nbformat": 4,
 "nbformat_minor": 2
}