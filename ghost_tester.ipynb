{
 "cells": [
  {
   "cell_type": "code",
   "execution_count": 22,
   "metadata": {},
   "outputs": [],
   "source": [
    "from game_logic.ghostAgents import RandomGhost\n",
    "from entregables.maxNAgent import MaxNAgent\n",
    "from game_logic.randomPacman import RandomPacman\n",
    "from game_logic.PacmanEnvAbs import PacmanEnvAbs\n",
    "import random\n",
    "import math\n",
    "import numpy as np\n",
    "from game_logic.game_util import process_state\n",
    "from main import get_default_agents\n",
    "import timeit \n",
    "import pandas as pd\n",
    "\n",
    "all_layouts = [\n",
    "        \"custom1\",\n",
    "        \"custom2\",\n",
    "        \"capsuleClassic\",\n",
    "        \"contestClassic\",\n",
    "        \"mediumClassic\",\n",
    "        \"minimaxClassic\",\n",
    "        \"openClassic\",\n",
    "        \"originalClassic\",\n",
    "        \"smallClassic\",\n",
    "        \"testClassic\",\n",
    "        \"trappedClassic\",\n",
    "        \"trickyClassic\",\n",
    "        \"mediumGrid\",\n",
    "        \"smallGrid\"\n",
    "    ]\n",
    "\n",
    "# Parametros para un test\n",
    "class TestParams():\n",
    "    def __init__(self, test_name, layout, pacman_agent, ghost_agent_0, ghost_agent_1):        \n",
    "        self.test_name = test_name\n",
    "        self.layout = layout\n",
    "        self.pacman_agent = pacman_agent\n",
    "        self.ghost_agent_0 = ghost_agent_0\n",
    "        self.ghost_agent_1 = ghost_agent_1\n"
   ]
  },
  {
   "cell_type": "code",
   "execution_count": 23,
   "metadata": {},
   "outputs": [],
   "source": [
    "def run_test(test_params):  \n",
    "    t0 = timeit.default_timer()   \n",
    "    pacman_agent = test_params.pacman_agent\n",
    "    ghost_agent_0 = test_params.ghost_agent_0\n",
    "    ghost_agent_1 = test_params.ghost_agent_1\n",
    "    agents = [pacman_agent, ghost_agent_0, ghost_agent_1]\n",
    "    agents.extend(get_default_agents(3, 10))    \n",
    "    done = False\n",
    "    env = PacmanEnvAbs(agents = agents, view_distance = (2, 2))      \n",
    "    game_state = env.reset(enable_render= False, layout_name= test_params.layout)\n",
    "    turn_index = 0\n",
    "    while (not(done)): # jugar   \n",
    "        action = agents[turn_index].getAction(game_state)\n",
    "        game_state, rewards, done, info = env.step(action, turn_index)        \n",
    "        turn_index = (turn_index + 1) % env._get_num_agents()  \n",
    "    t1 = timeit.default_timer()    \n",
    "    time = t1-t0  \n",
    "    assert(game_state.getNumAgents()>=2) # que el juego tenga mas de 2 agentes\n",
    "    if game_state.getNumAgents()==2: # vector de rewards con los primeros 2 rewards y nan\n",
    "        ret = game_state.get_rewards()\n",
    "        ret.append(np.nan)\n",
    "    else: # vector de rewards con los primeros 3 rewards\n",
    "        ret = game_state.get_rewards()[0:3]\n",
    "    return ret, time"
   ]
  },
  {
   "cell_type": "code",
   "execution_count": 24,
   "metadata": {},
   "outputs": [
    {
     "output_type": "stream",
     "name": "stdout",
     "text": [
      "([-1523, -5646.0, nan], 1.4935193139999683)\n"
     ]
    }
   ],
   "source": [
    "pacman_agent = RandomPacman(index = 0)\n",
    "ghost_agent_0 = MaxNAgent(index = 1, unroll_type=\"MCTS\", max_unroll_depth=12, number_of_unrolls=6)\n",
    "ghost_agent_1 = RandomGhost(index = 2)\n",
    "sample_test = TestParams(\"PrimerTest\", \"mediumGrid\", pacman_agent, ghost_agent_0, ghost_agent_1)\n",
    "print(run_test(sample_test))\n"
   ]
  },
  {
   "cell_type": "code",
   "execution_count": 25,
   "metadata": {},
   "outputs": [],
   "source": [
    "selected_layouts = [  \n",
    "        \"smallGrid\"\n",
    "    ]\n",
    "# 1 pacman:\n",
    "    # MCTS --> Eval 1 (get_rewards)\n",
    "pacmans = [\n",
    "    (\"MAXN_pcmn\",MaxNAgent(index = 0, unroll_type=\"MCTS\", max_unroll_depth=5, number_of_unrolls=10))\n",
    "]\n",
    "\n",
    "# 6 ghosts:\n",
    "    # MC ---> Eval 1 (get_rewards)\n",
    "    # MC ---> Eval 2 (get_rewards)\n",
    "    # MC ---> Eval 3 (get_rewards)\n",
    "    # MC ---> Eval 1 (use_eval_in_end)\n",
    "    # MC ---> Eval 2 (use_eval_in_end)\n",
    "    # MC ---> Eval 3 (use_eval_in_end)    \n",
    "ghosts0s = [\n",
    "    (\"Eval1_MC_gh0\", MaxNAgent(index = 1, unroll_type=\"MC\", max_unroll_depth=5, number_of_unrolls=10, eval_id=1, use_eval_in_end=False)),\n",
    "    (\"Eval2_MC_gh0\", MaxNAgent(index = 1, unroll_type=\"MC\", max_unroll_depth=5, number_of_unrolls=10, eval_id=2, use_eval_in_end=False)),\n",
    "    (\"Eval3_MC_gh0\", MaxNAgent(index = 1, unroll_type=\"MC\", max_unroll_depth=5, number_of_unrolls=10, eval_id=3, use_eval_in_end=False)),\n",
    "    (\"Eval1_MC_gh0_isEval\", MaxNAgent(index = 1, unroll_type=\"MC\", max_unroll_depth=5, number_of_unrolls=10, eval_id=1, use_eval_in_end=True)),\n",
    "    (\"Eval2_MC_gh0_isEval\", MaxNAgent(index = 1, unroll_type=\"MC\", max_unroll_depth=5, number_of_unrolls=10, eval_id=2, use_eval_in_end=True)),\n",
    "    (\"Eval3_MC_gh0_isEval\", MaxNAgent(index = 1, unroll_type=\"MC\", max_unroll_depth=5, number_of_unrolls=10, eval_id=3, use_eval_in_end=True))    \n",
    "]\n",
    "\n",
    "# 6 ghosts:\n",
    "    # MCTS ---> Eval 1 (get_rewards)\n",
    "    # MCTS ---> Eval 2 (get_rewards)\n",
    "    # MCTS ---> Eval 3 (get_rewards)\n",
    "    # MCTS ---> Eval 1 (use_eval_in_end)\n",
    "    # MCTS ---> Eval 2 (use_eval_in_end)\n",
    "    # MCTS ---> Eval 3 (use_eval_in_end) \n",
    "ghosts1s = [\n",
    "    (\"Eval1_MCTS_gh1\", MaxNAgent(index = 2, unroll_type=\"MCTS\", max_unroll_depth=5, number_of_unrolls=10, eval_id=1, use_eval_in_end=False)),\n",
    "    (\"Eval2_MCTS_gh1\", MaxNAgent(index = 2, unroll_type=\"MCTS\", max_unroll_depth=5, number_of_unrolls=10, eval_id=2, use_eval_in_end=False)),\n",
    "    (\"Eval3_MCTS_gh1\", MaxNAgent(index = 2, unroll_type=\"MCTS\", max_unroll_depth=5, number_of_unrolls=10, eval_id=3, use_eval_in_end=False)),\n",
    "    (\"Eval1_MCTS_gh1_isEval\", MaxNAgent(index = 2, unroll_type=\"MCTS\", max_unroll_depth=5, number_of_unrolls=10, eval_id=1, use_eval_in_end=True)),\n",
    "    (\"Eval2_MCTS_gh1_isEval\", MaxNAgent(index = 2, unroll_type=\"MCTS\", max_unroll_depth=5, number_of_unrolls=10, eval_id=2, use_eval_in_end=True)),\n",
    "    (\"Eval3_MCTS_gh1_isEval\", MaxNAgent(index = 2, unroll_type=\"MCTS\", max_unroll_depth=5, number_of_unrolls=10, eval_id=3, use_eval_in_end=True))    \n",
    "]"
   ]
  },
  {
   "cell_type": "code",
   "execution_count": 29,
   "metadata": {},
   "outputs": [],
   "source": [
    "all_tests = []\n",
    "for layout in selected_layouts:\n",
    "    for pacman_name, pacman_agent in pacmans:\n",
    "        for ghost0_name, ghost_0 in ghosts0s:\n",
    "            for ghost1_name, ghost_1 in ghosts1s:\n",
    "                #name = layout+\"_\"+pacman_name+\"_\"+ghost0_name+\"_\"+ghost1_name\n",
    "                # Sacamos el layout y pacman porque usamos smallGrid y MAXN_pcmn (MCTS)\n",
    "                name = ghost0_name+\"_\"+ghost1_name\n",
    "                test = TestParams(name, layout, pacman_agent, ghost_agent_0, ghost_agent_1)\n",
    "                all_tests.append(test)\n",
    "number_of_runs = 10"
   ]
  },
  {
   "cell_type": "code",
   "execution_count": 30,
   "metadata": {},
   "outputs": [
    {
     "output_type": "stream",
     "name": "stdout",
     "text": [
      "All tests time:  439.51498875000016 seconds.\n"
     ]
    },
    {
     "output_type": "display_data",
     "data": {
      "text/plain": "                                     TestName  Time_Avg  Time_Std  \\\n0                 Eval1_MC_gh0_Eval1_MCTS_gh1      0.87      0.56   \n1                 Eval1_MC_gh0_Eval2_MCTS_gh1      1.45      0.90   \n2                 Eval1_MC_gh0_Eval3_MCTS_gh1      1.52      1.27   \n3          Eval1_MC_gh0_Eval1_MCTS_gh1_isEval      2.30      1.34   \n4          Eval1_MC_gh0_Eval2_MCTS_gh1_isEval      1.44      1.41   \n5          Eval1_MC_gh0_Eval3_MCTS_gh1_isEval      1.30      0.74   \n6                 Eval2_MC_gh0_Eval1_MCTS_gh1      1.01      0.78   \n7                 Eval2_MC_gh0_Eval2_MCTS_gh1      1.08      0.96   \n8                 Eval2_MC_gh0_Eval3_MCTS_gh1      0.90      0.91   \n9          Eval2_MC_gh0_Eval1_MCTS_gh1_isEval      1.13      0.83   \n10         Eval2_MC_gh0_Eval2_MCTS_gh1_isEval      1.22      1.20   \n11         Eval2_MC_gh0_Eval3_MCTS_gh1_isEval      1.15      0.85   \n12                Eval3_MC_gh0_Eval1_MCTS_gh1      1.24      0.66   \n13                Eval3_MC_gh0_Eval2_MCTS_gh1      1.05      1.03   \n14                Eval3_MC_gh0_Eval3_MCTS_gh1      1.71      0.91   \n15         Eval3_MC_gh0_Eval1_MCTS_gh1_isEval      0.84      0.62   \n16         Eval3_MC_gh0_Eval2_MCTS_gh1_isEval      1.57      0.92   \n17         Eval3_MC_gh0_Eval3_MCTS_gh1_isEval      0.72      0.42   \n18         Eval1_MC_gh0_isEval_Eval1_MCTS_gh1      0.78      0.54   \n19         Eval1_MC_gh0_isEval_Eval2_MCTS_gh1      0.72      0.45   \n20         Eval1_MC_gh0_isEval_Eval3_MCTS_gh1      0.97      0.62   \n21  Eval1_MC_gh0_isEval_Eval1_MCTS_gh1_isEval      0.97      0.61   \n22  Eval1_MC_gh0_isEval_Eval2_MCTS_gh1_isEval      1.43      1.75   \n23  Eval1_MC_gh0_isEval_Eval3_MCTS_gh1_isEval      1.11      1.01   \n24         Eval2_MC_gh0_isEval_Eval1_MCTS_gh1      0.78      0.47   \n25         Eval2_MC_gh0_isEval_Eval2_MCTS_gh1      0.82      0.50   \n26         Eval2_MC_gh0_isEval_Eval3_MCTS_gh1      2.35      2.20   \n27  Eval2_MC_gh0_isEval_Eval1_MCTS_gh1_isEval      1.02      0.58   \n28  Eval2_MC_gh0_isEval_Eval2_MCTS_gh1_isEval      1.94      1.06   \n29  Eval2_MC_gh0_isEval_Eval3_MCTS_gh1_isEval      1.05      0.62   \n30         Eval3_MC_gh0_isEval_Eval1_MCTS_gh1      1.06      0.66   \n31         Eval3_MC_gh0_isEval_Eval2_MCTS_gh1      1.51      1.22   \n32         Eval3_MC_gh0_isEval_Eval3_MCTS_gh1      1.18      0.75   \n33  Eval3_MC_gh0_isEval_Eval1_MCTS_gh1_isEval      1.29      0.89   \n34  Eval3_MC_gh0_isEval_Eval2_MCTS_gh1_isEval      0.90      0.60   \n35  Eval3_MC_gh0_isEval_Eval3_MCTS_gh1_isEval      1.58      1.08   \n\n    P_Value_Avg  P_Value_Std  GH0_Value_Avg  GH0_Value_Std  GH1_Value_Avg  \\\n0       -1516.6        11.97        -2874.7        2467.51            NaN   \n1       -1123.2       813.58        -5654.3        4015.24            NaN   \n2       -1126.3       809.75        -5781.8        5429.32            NaN   \n3        -738.1       991.85        -9613.3        5932.35            NaN   \n4        -922.0       903.81        -5691.9        6623.97            NaN   \n5        -918.9       918.04        -5063.8        3560.56            NaN   \n6       -1520.0        16.06        -3508.2        3478.48            NaN   \n7       -1115.9       801.92        -3979.2        4416.59            NaN   \n8       -1316.1       606.61        -3077.9        3988.39            NaN   \n9       -1318.4       604.97        -4008.8        3692.59            NaN   \n10       -917.4       926.65        -4532.4        5219.24            NaN   \n11      -1517.9        15.71        -3761.0        3397.89            NaN   \n12      -1321.2       605.19        -4371.5        2745.93            NaN   \n13      -1116.5       794.89        -3943.7        4918.94            NaN   \n14       -926.3       925.39        -6854.7        3947.19            NaN   \n15      -1313.5       604.95        -2689.2        2797.41            NaN   \n16      -1125.0       808.43        -6011.0        3948.17            NaN   \n17       -909.6       922.17        -2607.7        2162.30            NaN   \n18      -1111.2       804.66        -2727.6        2549.08            NaN   \n19       -909.2       922.35        -2485.2        2213.27            NaN   \n20      -1314.4       603.24        -3064.4        2604.18            NaN   \n21      -1515.5        11.85        -3105.4        2546.71            NaN   \n22      -1326.5       608.12        -5406.2        7723.33            NaN   \n23      -1320.6       597.48        -4059.4        4588.05            NaN   \n24      -1514.6        10.32        -2475.6        2092.80            NaN   \n25      -1312.8       601.32        -2738.8        2383.64            NaN   \n26       -940.9       931.36        -9777.7        9715.24            NaN   \n27       -711.9       988.94        -3949.1        2632.79            NaN   \n28       -324.8       989.95        -7808.9        4561.87            NaN   \n29      -1112.9       799.99        -3335.1        2778.87            NaN   \n30       -913.1       922.74        -3694.4        2871.49            NaN   \n31      -1327.2       609.12        -5520.5        5066.46            NaN   \n32      -1321.2       596.49        -4236.9        3437.31            NaN   \n33      -1322.8       608.85        -4690.9        3802.42            NaN   \n34      -1314.3       605.58        -3017.5        2645.14            NaN   \n35       -723.0       997.53        -6293.5        4523.44            NaN   \n\n    GH1_Value_Std  \n0             NaN  \n1             NaN  \n2             NaN  \n3             NaN  \n4             NaN  \n5             NaN  \n6             NaN  \n7             NaN  \n8             NaN  \n9             NaN  \n10            NaN  \n11            NaN  \n12            NaN  \n13            NaN  \n14            NaN  \n15            NaN  \n16            NaN  \n17            NaN  \n18            NaN  \n19            NaN  \n20            NaN  \n21            NaN  \n22            NaN  \n23            NaN  \n24            NaN  \n25            NaN  \n26            NaN  \n27            NaN  \n28            NaN  \n29            NaN  \n30            NaN  \n31            NaN  \n32            NaN  \n33            NaN  \n34            NaN  \n35            NaN  ",
      "text/html": "<div>\n<style scoped>\n    .dataframe tbody tr th:only-of-type {\n        vertical-align: middle;\n    }\n\n    .dataframe tbody tr th {\n        vertical-align: top;\n    }\n\n    .dataframe thead th {\n        text-align: right;\n    }\n</style>\n<table border=\"1\" class=\"dataframe\">\n  <thead>\n    <tr style=\"text-align: right;\">\n      <th></th>\n      <th>TestName</th>\n      <th>Time_Avg</th>\n      <th>Time_Std</th>\n      <th>P_Value_Avg</th>\n      <th>P_Value_Std</th>\n      <th>GH0_Value_Avg</th>\n      <th>GH0_Value_Std</th>\n      <th>GH1_Value_Avg</th>\n      <th>GH1_Value_Std</th>\n    </tr>\n  </thead>\n  <tbody>\n    <tr>\n      <th>0</th>\n      <td>Eval1_MC_gh0_Eval1_MCTS_gh1</td>\n      <td>0.87</td>\n      <td>0.56</td>\n      <td>-1516.6</td>\n      <td>11.97</td>\n      <td>-2874.7</td>\n      <td>2467.51</td>\n      <td>NaN</td>\n      <td>NaN</td>\n    </tr>\n    <tr>\n      <th>1</th>\n      <td>Eval1_MC_gh0_Eval2_MCTS_gh1</td>\n      <td>1.45</td>\n      <td>0.90</td>\n      <td>-1123.2</td>\n      <td>813.58</td>\n      <td>-5654.3</td>\n      <td>4015.24</td>\n      <td>NaN</td>\n      <td>NaN</td>\n    </tr>\n    <tr>\n      <th>2</th>\n      <td>Eval1_MC_gh0_Eval3_MCTS_gh1</td>\n      <td>1.52</td>\n      <td>1.27</td>\n      <td>-1126.3</td>\n      <td>809.75</td>\n      <td>-5781.8</td>\n      <td>5429.32</td>\n      <td>NaN</td>\n      <td>NaN</td>\n    </tr>\n    <tr>\n      <th>3</th>\n      <td>Eval1_MC_gh0_Eval1_MCTS_gh1_isEval</td>\n      <td>2.30</td>\n      <td>1.34</td>\n      <td>-738.1</td>\n      <td>991.85</td>\n      <td>-9613.3</td>\n      <td>5932.35</td>\n      <td>NaN</td>\n      <td>NaN</td>\n    </tr>\n    <tr>\n      <th>4</th>\n      <td>Eval1_MC_gh0_Eval2_MCTS_gh1_isEval</td>\n      <td>1.44</td>\n      <td>1.41</td>\n      <td>-922.0</td>\n      <td>903.81</td>\n      <td>-5691.9</td>\n      <td>6623.97</td>\n      <td>NaN</td>\n      <td>NaN</td>\n    </tr>\n    <tr>\n      <th>5</th>\n      <td>Eval1_MC_gh0_Eval3_MCTS_gh1_isEval</td>\n      <td>1.30</td>\n      <td>0.74</td>\n      <td>-918.9</td>\n      <td>918.04</td>\n      <td>-5063.8</td>\n      <td>3560.56</td>\n      <td>NaN</td>\n      <td>NaN</td>\n    </tr>\n    <tr>\n      <th>6</th>\n      <td>Eval2_MC_gh0_Eval1_MCTS_gh1</td>\n      <td>1.01</td>\n      <td>0.78</td>\n      <td>-1520.0</td>\n      <td>16.06</td>\n      <td>-3508.2</td>\n      <td>3478.48</td>\n      <td>NaN</td>\n      <td>NaN</td>\n    </tr>\n    <tr>\n      <th>7</th>\n      <td>Eval2_MC_gh0_Eval2_MCTS_gh1</td>\n      <td>1.08</td>\n      <td>0.96</td>\n      <td>-1115.9</td>\n      <td>801.92</td>\n      <td>-3979.2</td>\n      <td>4416.59</td>\n      <td>NaN</td>\n      <td>NaN</td>\n    </tr>\n    <tr>\n      <th>8</th>\n      <td>Eval2_MC_gh0_Eval3_MCTS_gh1</td>\n      <td>0.90</td>\n      <td>0.91</td>\n      <td>-1316.1</td>\n      <td>606.61</td>\n      <td>-3077.9</td>\n      <td>3988.39</td>\n      <td>NaN</td>\n      <td>NaN</td>\n    </tr>\n    <tr>\n      <th>9</th>\n      <td>Eval2_MC_gh0_Eval1_MCTS_gh1_isEval</td>\n      <td>1.13</td>\n      <td>0.83</td>\n      <td>-1318.4</td>\n      <td>604.97</td>\n      <td>-4008.8</td>\n      <td>3692.59</td>\n      <td>NaN</td>\n      <td>NaN</td>\n    </tr>\n    <tr>\n      <th>10</th>\n      <td>Eval2_MC_gh0_Eval2_MCTS_gh1_isEval</td>\n      <td>1.22</td>\n      <td>1.20</td>\n      <td>-917.4</td>\n      <td>926.65</td>\n      <td>-4532.4</td>\n      <td>5219.24</td>\n      <td>NaN</td>\n      <td>NaN</td>\n    </tr>\n    <tr>\n      <th>11</th>\n      <td>Eval2_MC_gh0_Eval3_MCTS_gh1_isEval</td>\n      <td>1.15</td>\n      <td>0.85</td>\n      <td>-1517.9</td>\n      <td>15.71</td>\n      <td>-3761.0</td>\n      <td>3397.89</td>\n      <td>NaN</td>\n      <td>NaN</td>\n    </tr>\n    <tr>\n      <th>12</th>\n      <td>Eval3_MC_gh0_Eval1_MCTS_gh1</td>\n      <td>1.24</td>\n      <td>0.66</td>\n      <td>-1321.2</td>\n      <td>605.19</td>\n      <td>-4371.5</td>\n      <td>2745.93</td>\n      <td>NaN</td>\n      <td>NaN</td>\n    </tr>\n    <tr>\n      <th>13</th>\n      <td>Eval3_MC_gh0_Eval2_MCTS_gh1</td>\n      <td>1.05</td>\n      <td>1.03</td>\n      <td>-1116.5</td>\n      <td>794.89</td>\n      <td>-3943.7</td>\n      <td>4918.94</td>\n      <td>NaN</td>\n      <td>NaN</td>\n    </tr>\n    <tr>\n      <th>14</th>\n      <td>Eval3_MC_gh0_Eval3_MCTS_gh1</td>\n      <td>1.71</td>\n      <td>0.91</td>\n      <td>-926.3</td>\n      <td>925.39</td>\n      <td>-6854.7</td>\n      <td>3947.19</td>\n      <td>NaN</td>\n      <td>NaN</td>\n    </tr>\n    <tr>\n      <th>15</th>\n      <td>Eval3_MC_gh0_Eval1_MCTS_gh1_isEval</td>\n      <td>0.84</td>\n      <td>0.62</td>\n      <td>-1313.5</td>\n      <td>604.95</td>\n      <td>-2689.2</td>\n      <td>2797.41</td>\n      <td>NaN</td>\n      <td>NaN</td>\n    </tr>\n    <tr>\n      <th>16</th>\n      <td>Eval3_MC_gh0_Eval2_MCTS_gh1_isEval</td>\n      <td>1.57</td>\n      <td>0.92</td>\n      <td>-1125.0</td>\n      <td>808.43</td>\n      <td>-6011.0</td>\n      <td>3948.17</td>\n      <td>NaN</td>\n      <td>NaN</td>\n    </tr>\n    <tr>\n      <th>17</th>\n      <td>Eval3_MC_gh0_Eval3_MCTS_gh1_isEval</td>\n      <td>0.72</td>\n      <td>0.42</td>\n      <td>-909.6</td>\n      <td>922.17</td>\n      <td>-2607.7</td>\n      <td>2162.30</td>\n      <td>NaN</td>\n      <td>NaN</td>\n    </tr>\n    <tr>\n      <th>18</th>\n      <td>Eval1_MC_gh0_isEval_Eval1_MCTS_gh1</td>\n      <td>0.78</td>\n      <td>0.54</td>\n      <td>-1111.2</td>\n      <td>804.66</td>\n      <td>-2727.6</td>\n      <td>2549.08</td>\n      <td>NaN</td>\n      <td>NaN</td>\n    </tr>\n    <tr>\n      <th>19</th>\n      <td>Eval1_MC_gh0_isEval_Eval2_MCTS_gh1</td>\n      <td>0.72</td>\n      <td>0.45</td>\n      <td>-909.2</td>\n      <td>922.35</td>\n      <td>-2485.2</td>\n      <td>2213.27</td>\n      <td>NaN</td>\n      <td>NaN</td>\n    </tr>\n    <tr>\n      <th>20</th>\n      <td>Eval1_MC_gh0_isEval_Eval3_MCTS_gh1</td>\n      <td>0.97</td>\n      <td>0.62</td>\n      <td>-1314.4</td>\n      <td>603.24</td>\n      <td>-3064.4</td>\n      <td>2604.18</td>\n      <td>NaN</td>\n      <td>NaN</td>\n    </tr>\n    <tr>\n      <th>21</th>\n      <td>Eval1_MC_gh0_isEval_Eval1_MCTS_gh1_isEval</td>\n      <td>0.97</td>\n      <td>0.61</td>\n      <td>-1515.5</td>\n      <td>11.85</td>\n      <td>-3105.4</td>\n      <td>2546.71</td>\n      <td>NaN</td>\n      <td>NaN</td>\n    </tr>\n    <tr>\n      <th>22</th>\n      <td>Eval1_MC_gh0_isEval_Eval2_MCTS_gh1_isEval</td>\n      <td>1.43</td>\n      <td>1.75</td>\n      <td>-1326.5</td>\n      <td>608.12</td>\n      <td>-5406.2</td>\n      <td>7723.33</td>\n      <td>NaN</td>\n      <td>NaN</td>\n    </tr>\n    <tr>\n      <th>23</th>\n      <td>Eval1_MC_gh0_isEval_Eval3_MCTS_gh1_isEval</td>\n      <td>1.11</td>\n      <td>1.01</td>\n      <td>-1320.6</td>\n      <td>597.48</td>\n      <td>-4059.4</td>\n      <td>4588.05</td>\n      <td>NaN</td>\n      <td>NaN</td>\n    </tr>\n    <tr>\n      <th>24</th>\n      <td>Eval2_MC_gh0_isEval_Eval1_MCTS_gh1</td>\n      <td>0.78</td>\n      <td>0.47</td>\n      <td>-1514.6</td>\n      <td>10.32</td>\n      <td>-2475.6</td>\n      <td>2092.80</td>\n      <td>NaN</td>\n      <td>NaN</td>\n    </tr>\n    <tr>\n      <th>25</th>\n      <td>Eval2_MC_gh0_isEval_Eval2_MCTS_gh1</td>\n      <td>0.82</td>\n      <td>0.50</td>\n      <td>-1312.8</td>\n      <td>601.32</td>\n      <td>-2738.8</td>\n      <td>2383.64</td>\n      <td>NaN</td>\n      <td>NaN</td>\n    </tr>\n    <tr>\n      <th>26</th>\n      <td>Eval2_MC_gh0_isEval_Eval3_MCTS_gh1</td>\n      <td>2.35</td>\n      <td>2.20</td>\n      <td>-940.9</td>\n      <td>931.36</td>\n      <td>-9777.7</td>\n      <td>9715.24</td>\n      <td>NaN</td>\n      <td>NaN</td>\n    </tr>\n    <tr>\n      <th>27</th>\n      <td>Eval2_MC_gh0_isEval_Eval1_MCTS_gh1_isEval</td>\n      <td>1.02</td>\n      <td>0.58</td>\n      <td>-711.9</td>\n      <td>988.94</td>\n      <td>-3949.1</td>\n      <td>2632.79</td>\n      <td>NaN</td>\n      <td>NaN</td>\n    </tr>\n    <tr>\n      <th>28</th>\n      <td>Eval2_MC_gh0_isEval_Eval2_MCTS_gh1_isEval</td>\n      <td>1.94</td>\n      <td>1.06</td>\n      <td>-324.8</td>\n      <td>989.95</td>\n      <td>-7808.9</td>\n      <td>4561.87</td>\n      <td>NaN</td>\n      <td>NaN</td>\n    </tr>\n    <tr>\n      <th>29</th>\n      <td>Eval2_MC_gh0_isEval_Eval3_MCTS_gh1_isEval</td>\n      <td>1.05</td>\n      <td>0.62</td>\n      <td>-1112.9</td>\n      <td>799.99</td>\n      <td>-3335.1</td>\n      <td>2778.87</td>\n      <td>NaN</td>\n      <td>NaN</td>\n    </tr>\n    <tr>\n      <th>30</th>\n      <td>Eval3_MC_gh0_isEval_Eval1_MCTS_gh1</td>\n      <td>1.06</td>\n      <td>0.66</td>\n      <td>-913.1</td>\n      <td>922.74</td>\n      <td>-3694.4</td>\n      <td>2871.49</td>\n      <td>NaN</td>\n      <td>NaN</td>\n    </tr>\n    <tr>\n      <th>31</th>\n      <td>Eval3_MC_gh0_isEval_Eval2_MCTS_gh1</td>\n      <td>1.51</td>\n      <td>1.22</td>\n      <td>-1327.2</td>\n      <td>609.12</td>\n      <td>-5520.5</td>\n      <td>5066.46</td>\n      <td>NaN</td>\n      <td>NaN</td>\n    </tr>\n    <tr>\n      <th>32</th>\n      <td>Eval3_MC_gh0_isEval_Eval3_MCTS_gh1</td>\n      <td>1.18</td>\n      <td>0.75</td>\n      <td>-1321.2</td>\n      <td>596.49</td>\n      <td>-4236.9</td>\n      <td>3437.31</td>\n      <td>NaN</td>\n      <td>NaN</td>\n    </tr>\n    <tr>\n      <th>33</th>\n      <td>Eval3_MC_gh0_isEval_Eval1_MCTS_gh1_isEval</td>\n      <td>1.29</td>\n      <td>0.89</td>\n      <td>-1322.8</td>\n      <td>608.85</td>\n      <td>-4690.9</td>\n      <td>3802.42</td>\n      <td>NaN</td>\n      <td>NaN</td>\n    </tr>\n    <tr>\n      <th>34</th>\n      <td>Eval3_MC_gh0_isEval_Eval2_MCTS_gh1_isEval</td>\n      <td>0.90</td>\n      <td>0.60</td>\n      <td>-1314.3</td>\n      <td>605.58</td>\n      <td>-3017.5</td>\n      <td>2645.14</td>\n      <td>NaN</td>\n      <td>NaN</td>\n    </tr>\n    <tr>\n      <th>35</th>\n      <td>Eval3_MC_gh0_isEval_Eval3_MCTS_gh1_isEval</td>\n      <td>1.58</td>\n      <td>1.08</td>\n      <td>-723.0</td>\n      <td>997.53</td>\n      <td>-6293.5</td>\n      <td>4523.44</td>\n      <td>NaN</td>\n      <td>NaN</td>\n    </tr>\n  </tbody>\n</table>\n</div>"
     },
     "metadata": {}
    }
   ],
   "source": [
    "results = []\n",
    "t0 = timeit.default_timer()   \n",
    "for i in range(len(all_tests)):   \n",
    "        values = []\n",
    "        times = []    \n",
    "        for _ in range(number_of_runs):\n",
    "            value, time = run_test(all_tests[i])            \n",
    "            values.append(value)\n",
    "            times.append(time)\n",
    "        #compute avg and std and and add to results\n",
    "        value_avg = np.round(np.mean(np.array(values), axis=0),2)\n",
    "        time_avg = np.round(np.mean(np.array(times)),2)\n",
    "        value_std = np.round(np.std(np.array(values), axis=0),2)\n",
    "        time_std = np.round(np.std(np.array(times)),2)\n",
    "        result = {'TestName':all_tests[i].test_name,'Time_Avg':time_avg,'Time_Std':time_std, \n",
    "                  'P_Value_Avg':value_avg[0], \n",
    "                  'P_Value_Std':value_std[0],\n",
    "                  'GH0_Value_Avg':value_avg[1], \n",
    "                  'GH0_Value_Std':value_std[1],\n",
    "                  'GH1_Value_Avg':value_avg[2], \n",
    "                  'GH1_Value_Std':value_std[2]\n",
    "                  }\n",
    "        results.append(result)\n",
    "results = pd.DataFrame(results)\n",
    "t1 = timeit.default_timer()    \n",
    "time = t1-t0  \n",
    "print(\"All tests time: \", time, \"seconds.\")  \n",
    "pd.set_option('display.max_rows', 100)  \n",
    "display(results)"
   ]
  },
  {
   "cell_type": "code",
   "execution_count": null,
   "metadata": {},
   "outputs": [],
   "source": []
  }
 ],
 "metadata": {
  "kernelspec": {
   "display_name": "Python 3",
   "language": "python",
   "name": "python3"
  },
  "language_info": {
   "codemirror_mode": {
    "name": "ipython",
    "version": 3
   },
   "file_extension": ".py",
   "mimetype": "text/x-python",
   "name": "python",
   "nbconvert_exporter": "python",
   "pygments_lexer": "ipython3",
   "version": "3.8.3-final"
  }
 },
 "nbformat": 4,
 "nbformat_minor": 2
}